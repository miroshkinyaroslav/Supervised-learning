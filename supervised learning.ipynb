{
 "cells": [
  {
   "cell_type": "markdown",
   "metadata": {},
   "source": [
    "# Отток клиентов"
   ]
  },
  {
   "cell_type": "markdown",
   "metadata": {},
   "source": [
    "Из «Бета-Банка» стали уходить клиенты. Каждый месяц. Немного, но заметно. Банковские маркетологи посчитали: сохранять текущих клиентов дешевле, чем привлекать новых.\n",
    "\n",
    "Нужно спрогнозировать, уйдёт клиент из банка в ближайшее время или нет. Вам предоставлены исторические данные о поведении клиентов и расторжении договоров с банком. \n",
    "\n",
    "Постройте модель с предельно большим значением *F1*-меры. Чтобы сдать проект успешно, нужно довести метрику до 0.59. Проверьте *F1*-меру на тестовой выборке самостоятельно.\n",
    "\n",
    "Дополнительно измеряйте *AUC-ROC*, сравнивайте её значение с *F1*-мерой.\n",
    "\n",
    "Источник данных: [https://www.kaggle.com/barelydedicated/bank-customer-churn-modeling](https://www.kaggle.com/barelydedicated/bank-customer-churn-modeling)"
   ]
  },
  {
   "cell_type": "markdown",
   "metadata": {
    "toc": true
   },
   "source": [
    "<h1>Содержание<span class=\"tocSkip\"></span></h1>\n",
    "<div class=\"toc\"><ul class=\"toc-item\"><li><span><a href=\"#Цели\" data-toc-modified-id=\"Цели-1\"><span class=\"toc-item-num\">1&nbsp;&nbsp;</span>Цели</a></span></li><li><span><a href=\"#Описание-данных\" data-toc-modified-id=\"Описание-данных-2\"><span class=\"toc-item-num\">2&nbsp;&nbsp;</span>Описание данных</a></span><ul class=\"toc-item\"><li><span><a href=\"#Пропуски-в-данных\" data-toc-modified-id=\"Пропуски-в-данных-2.1\"><span class=\"toc-item-num\">2.1&nbsp;&nbsp;</span>Пропуски в данных</a></span></li><li><span><a href=\"#Кодируем-категориальные-переменные\" data-toc-modified-id=\"Кодируем-категориальные-переменные-2.2\"><span class=\"toc-item-num\">2.2&nbsp;&nbsp;</span>Кодируем категориальные переменные</a></span></li><li><span><a href=\"#Масштабиурем-признаки\" data-toc-modified-id=\"Масштабиурем-признаки-2.3\"><span class=\"toc-item-num\">2.3&nbsp;&nbsp;</span>Масштабиурем признаки</a></span></li></ul></li><li><span><a href=\"#Вывод-по-блоку-&quot;Предобработка-данных&quot;\" data-toc-modified-id=\"Вывод-по-блоку-&quot;Предобработка-данных&quot;-3\"><span class=\"toc-item-num\">3&nbsp;&nbsp;</span>Вывод по блоку \"Предобработка данных\"</a></span><ul class=\"toc-item\"><li><span><a href=\"#Исследуем-баланс-классов\" data-toc-modified-id=\"Исследуем-баланс-классов-3.1\"><span class=\"toc-item-num\">3.1&nbsp;&nbsp;</span>Исследуем баланс классов</a></span></li></ul></li><li><span><a href=\"#Изучение-модели-без-учета-дисбаланса\" data-toc-modified-id=\"Изучение-модели-без-учета-дисбаланса-4\"><span class=\"toc-item-num\">4&nbsp;&nbsp;</span>Изучение модели без учета дисбаланса</a></span></li><li><span><a href=\"#Масштабирование-признаков-(2)\" data-toc-modified-id=\"Масштабирование-признаков-(2)-5\"><span class=\"toc-item-num\">5&nbsp;&nbsp;</span>Масштабирование признаков (2)</a></span><ul class=\"toc-item\"><li><span><a href=\"#Логистическая-регрессия\" data-toc-modified-id=\"Логистическая-регрессия-5.1\"><span class=\"toc-item-num\">5.1&nbsp;&nbsp;</span>Логистическая регрессия</a></span><ul class=\"toc-item\"><li><span><a href=\"#ROC-CURVE\" data-toc-modified-id=\"ROC-CURVE-5.1.1\"><span class=\"toc-item-num\">5.1.1&nbsp;&nbsp;</span>ROC-CURVE</a></span></li></ul></li><li><span><a href=\"#Случайный-лес\" data-toc-modified-id=\"Случайный-лес-5.2\"><span class=\"toc-item-num\">5.2&nbsp;&nbsp;</span>Случайный лес</a></span></li><li><span><a href=\"#PR-Кривая-Случайный-лес\" data-toc-modified-id=\"PR-Кривая-Случайный-лес-5.3\"><span class=\"toc-item-num\">5.3&nbsp;&nbsp;</span>PR-Кривая Случайный лес</a></span></li><li><span><a href=\"#Вывод-по-блоку-&quot;Исследование-задачи&quot;\" data-toc-modified-id=\"Вывод-по-блоку-&quot;Исследование-задачи&quot;-5.4\"><span class=\"toc-item-num\">5.4&nbsp;&nbsp;</span>Вывод по блоку \"Исследование задачи\"</a></span></li></ul></li><li><span><a href=\"#Логистическая-регрессия-(дисбаланс)\" data-toc-modified-id=\"Логистическая-регрессия-(дисбаланс)-6\"><span class=\"toc-item-num\">6&nbsp;&nbsp;</span>Логистическая регрессия (дисбаланс)</a></span><ul class=\"toc-item\"><li><span><a href=\"#class_weight='balanced'\" data-toc-modified-id=\"class_weight='balanced'-6.1\"><span class=\"toc-item-num\">6.1&nbsp;&nbsp;</span>class_weight='balanced'</a></span></li><li><span><a href=\"#UpSampling\" data-toc-modified-id=\"UpSampling-6.2\"><span class=\"toc-item-num\">6.2&nbsp;&nbsp;</span>UpSampling</a></span></li><li><span><a href=\"#Случайный-лес-(дисбаланс-классов)\" data-toc-modified-id=\"Случайный-лес-(дисбаланс-классов)-6.3\"><span class=\"toc-item-num\">6.3&nbsp;&nbsp;</span>Случайный лес (дисбаланс классов)</a></span></li><li><span><a href=\"#Class_weight='balanced'\" data-toc-modified-id=\"Class_weight='balanced'-6.4\"><span class=\"toc-item-num\">6.4&nbsp;&nbsp;</span>Class_weight='balanced'</a></span></li></ul></li><li><span><a href=\"#Cлучайный-лес-UpSampling\" data-toc-modified-id=\"Cлучайный-лес-UpSampling-7\"><span class=\"toc-item-num\">7&nbsp;&nbsp;</span>Cлучайный лес UpSampling</a></span><ul class=\"toc-item\"><li><span><a href=\"#Вывод-по-блоку:-Дисбаланс\" data-toc-modified-id=\"Вывод-по-блоку:-Дисбаланс-7.1\"><span class=\"toc-item-num\">7.1&nbsp;&nbsp;</span>Вывод по блоку: Дисбаланс</a></span></li></ul></li><li><span><a href=\"#Тестирование-модели\" data-toc-modified-id=\"Тестирование-модели-8\"><span class=\"toc-item-num\">8&nbsp;&nbsp;</span>Тестирование модели</a></span><ul class=\"toc-item\"><li><span><a href=\"#Случайный-лес-(тестирование)\" data-toc-modified-id=\"Случайный-лес-(тестирование)-8.1\"><span class=\"toc-item-num\">8.1&nbsp;&nbsp;</span>Случайный лес (тестирование)</a></span></li></ul></li><li><span><a href=\"#Чек-лист-готовности-проекта\" data-toc-modified-id=\"Чек-лист-готовности-проекта-9\"><span class=\"toc-item-num\">9&nbsp;&nbsp;</span>Чек-лист готовности проекта</a></span></li></ul></div>"
   ]
  },
  {
   "cell_type": "markdown",
   "metadata": {},
   "source": [
    "## Цели\n",
    "Построение математической модели на основе исторический данных, для прогнозирования оттока клиентов \"Бета-Банка\".\n",
    "## Описание данных\n",
    "\n",
    "* RowNumber — индекс строки в данных\n",
    "* CustomerId — уникальный идентификатор клиента\n",
    "* Surname — фамилия\n",
    "* CreditScore — кредитный рейтинг\n",
    "* Geography — страна проживания\n",
    "* Gender — пол\n",
    "* Age — возраст\n",
    "* Tenure — сколько лет человек является клиентом банка\n",
    "* Balance — баланс на счёте\n",
    "* NumOfProducts — количество продуктов банка, используемых клиентом\n",
    "* HasCrCard — наличие кредитной карты\n",
    "* IsActiveMember — активность клиента\n",
    "* EstimatedSalary — предполагаемая зарплата\n",
    "\n",
    "* Exited — факт ухода клиента"
   ]
  },
  {
   "cell_type": "code",
   "execution_count": 2,
   "metadata": {},
   "outputs": [],
   "source": [
    "#importing libraries\n",
    "import pandas as pd\n",
    "import os\n",
    "import numpy as np\n",
    "import seaborn as sns\n",
    "from tqdm import tqdm\n",
    "import matplotlib.pyplot as plt\n",
    "import warnings\n",
    "from sklearn.preprocessing import StandardScaler \n",
    "from sklearn.model_selection import train_test_split, GridSearchCV\n",
    "from sklearn.tree import DecisionTreeClassifier\n",
    "from sklearn.ensemble import RandomForestClassifier\n",
    "from sklearn.linear_model import LogisticRegression \n",
    "from sklearn.metrics import (\n",
    "    accuracy_score,\n",
    "    recall_score, \n",
    "    precision_score,\n",
    "    f1_score,\n",
    "    classification_report,\n",
    "    roc_curve, \n",
    "    roc_auc_score,\n",
    "    confusion_matrix, \n",
    "    ConfusionMatrixDisplay\n",
    ") \n",
    "from sklearn.utils import shuffle\n",
    "from imblearn.over_sampling import SMOTE"
   ]
  },
  {
   "cell_type": "markdown",
   "metadata": {},
   "source": [
    "# Подготовка данных"
   ]
  },
  {
   "cell_type": "code",
   "execution_count": 3,
   "metadata": {
    "scrolled": true
   },
   "outputs": [
    {
     "name": "stdout",
     "output_type": "stream",
     "text": [
      "Датасет успешно считан\n"
     ]
    }
   ],
   "source": [
    "#open dataset\n",
    "pth1 = '/datasets/Churn.csv'\n",
    "pth2 = 'datasets/Churn.csv'\n",
    "\n",
    "if os.path.exists(pth1):\n",
    "    df = pd.read_csv(pth1)\n",
    "    print('Датасет успешно считан')\n",
    "elif os.path.exists(pth2):\n",
    "    df = pd.read_csv(pth2)\n",
    "    print('Датасет успешно считан')\n",
    "else:\n",
    "    print('Не удалось открыть файл')"
   ]
  },
  {
   "cell_type": "code",
   "execution_count": 4,
   "metadata": {
    "scrolled": false
   },
   "outputs": [
    {
     "data": {
      "text/html": [
       "<div>\n",
       "<style scoped>\n",
       "    .dataframe tbody tr th:only-of-type {\n",
       "        vertical-align: middle;\n",
       "    }\n",
       "\n",
       "    .dataframe tbody tr th {\n",
       "        vertical-align: top;\n",
       "    }\n",
       "\n",
       "    .dataframe thead th {\n",
       "        text-align: right;\n",
       "    }\n",
       "</style>\n",
       "<table border=\"1\" class=\"dataframe\">\n",
       "  <thead>\n",
       "    <tr style=\"text-align: right;\">\n",
       "      <th></th>\n",
       "      <th>RowNumber</th>\n",
       "      <th>CustomerId</th>\n",
       "      <th>Surname</th>\n",
       "      <th>CreditScore</th>\n",
       "      <th>Geography</th>\n",
       "      <th>Gender</th>\n",
       "      <th>Age</th>\n",
       "      <th>Tenure</th>\n",
       "      <th>Balance</th>\n",
       "      <th>NumOfProducts</th>\n",
       "      <th>HasCrCard</th>\n",
       "      <th>IsActiveMember</th>\n",
       "      <th>EstimatedSalary</th>\n",
       "      <th>Exited</th>\n",
       "    </tr>\n",
       "  </thead>\n",
       "  <tbody>\n",
       "    <tr>\n",
       "      <th>0</th>\n",
       "      <td>1</td>\n",
       "      <td>15634602</td>\n",
       "      <td>Hargrave</td>\n",
       "      <td>619</td>\n",
       "      <td>France</td>\n",
       "      <td>Female</td>\n",
       "      <td>42</td>\n",
       "      <td>2.0</td>\n",
       "      <td>0.00</td>\n",
       "      <td>1</td>\n",
       "      <td>1</td>\n",
       "      <td>1</td>\n",
       "      <td>101348.88</td>\n",
       "      <td>1</td>\n",
       "    </tr>\n",
       "    <tr>\n",
       "      <th>1</th>\n",
       "      <td>2</td>\n",
       "      <td>15647311</td>\n",
       "      <td>Hill</td>\n",
       "      <td>608</td>\n",
       "      <td>Spain</td>\n",
       "      <td>Female</td>\n",
       "      <td>41</td>\n",
       "      <td>1.0</td>\n",
       "      <td>83807.86</td>\n",
       "      <td>1</td>\n",
       "      <td>0</td>\n",
       "      <td>1</td>\n",
       "      <td>112542.58</td>\n",
       "      <td>0</td>\n",
       "    </tr>\n",
       "    <tr>\n",
       "      <th>2</th>\n",
       "      <td>3</td>\n",
       "      <td>15619304</td>\n",
       "      <td>Onio</td>\n",
       "      <td>502</td>\n",
       "      <td>France</td>\n",
       "      <td>Female</td>\n",
       "      <td>42</td>\n",
       "      <td>8.0</td>\n",
       "      <td>159660.80</td>\n",
       "      <td>3</td>\n",
       "      <td>1</td>\n",
       "      <td>0</td>\n",
       "      <td>113931.57</td>\n",
       "      <td>1</td>\n",
       "    </tr>\n",
       "  </tbody>\n",
       "</table>\n",
       "</div>"
      ],
      "text/plain": [
       "   RowNumber  CustomerId   Surname  CreditScore Geography  Gender  Age  \\\n",
       "0          1    15634602  Hargrave          619    France  Female   42   \n",
       "1          2    15647311      Hill          608     Spain  Female   41   \n",
       "2          3    15619304      Onio          502    France  Female   42   \n",
       "\n",
       "   Tenure    Balance  NumOfProducts  HasCrCard  IsActiveMember  \\\n",
       "0     2.0       0.00              1          1               1   \n",
       "1     1.0   83807.86              1          0               1   \n",
       "2     8.0  159660.80              3          1               0   \n",
       "\n",
       "   EstimatedSalary  Exited  \n",
       "0        101348.88       1  \n",
       "1        112542.58       0  \n",
       "2        113931.57       1  "
      ]
     },
     "metadata": {},
     "output_type": "display_data"
    },
    {
     "name": "stdout",
     "output_type": "stream",
     "text": [
      "<class 'pandas.core.frame.DataFrame'>\n",
      "RangeIndex: 10000 entries, 0 to 9999\n",
      "Data columns (total 14 columns):\n",
      " #   Column           Non-Null Count  Dtype  \n",
      "---  ------           --------------  -----  \n",
      " 0   RowNumber        10000 non-null  int64  \n",
      " 1   CustomerId       10000 non-null  int64  \n",
      " 2   Surname          10000 non-null  object \n",
      " 3   CreditScore      10000 non-null  int64  \n",
      " 4   Geography        10000 non-null  object \n",
      " 5   Gender           10000 non-null  object \n",
      " 6   Age              10000 non-null  int64  \n",
      " 7   Tenure           9091 non-null   float64\n",
      " 8   Balance          10000 non-null  float64\n",
      " 9   NumOfProducts    10000 non-null  int64  \n",
      " 10  HasCrCard        10000 non-null  int64  \n",
      " 11  IsActiveMember   10000 non-null  int64  \n",
      " 12  EstimatedSalary  10000 non-null  float64\n",
      " 13  Exited           10000 non-null  int64  \n",
      "dtypes: float64(3), int64(8), object(3)\n",
      "memory usage: 1.1+ MB\n"
     ]
    }
   ],
   "source": [
    "#first view\n",
    "display(df.head(3))\n",
    "df.info()"
   ]
  },
  {
   "cell_type": "markdown",
   "metadata": {},
   "source": [
    "### Пропуски в данных\n",
    "Проверим, есть ли пропуски в данных"
   ]
  },
  {
   "cell_type": "code",
   "execution_count": 5,
   "metadata": {},
   "outputs": [
    {
     "data": {
      "text/html": [
       "<style type=\"text/css\">\n",
       "#T_e85be_row0_col0 {\n",
       "  background-color: #023858;\n",
       "  color: #f1f1f1;\n",
       "}\n",
       "#T_e85be_row1_col0, #T_e85be_row2_col0, #T_e85be_row3_col0, #T_e85be_row4_col0, #T_e85be_row5_col0, #T_e85be_row6_col0, #T_e85be_row7_col0, #T_e85be_row8_col0, #T_e85be_row9_col0, #T_e85be_row10_col0, #T_e85be_row11_col0, #T_e85be_row12_col0, #T_e85be_row13_col0 {\n",
       "  background-color: #fff7fb;\n",
       "  color: #000000;\n",
       "}\n",
       "</style>\n",
       "<table id=\"T_e85be\">\n",
       "  <thead>\n",
       "    <tr>\n",
       "      <th class=\"blank level0\" >&nbsp;</th>\n",
       "      <th id=\"T_e85be_level0_col0\" class=\"col_heading level0 col0\" >spaces</th>\n",
       "    </tr>\n",
       "  </thead>\n",
       "  <tbody>\n",
       "    <tr>\n",
       "      <th id=\"T_e85be_level0_row0\" class=\"row_heading level0 row0\" >Tenure</th>\n",
       "      <td id=\"T_e85be_row0_col0\" class=\"data row0 col0\" >909</td>\n",
       "    </tr>\n",
       "    <tr>\n",
       "      <th id=\"T_e85be_level0_row1\" class=\"row_heading level0 row1\" >RowNumber</th>\n",
       "      <td id=\"T_e85be_row1_col0\" class=\"data row1 col0\" >0</td>\n",
       "    </tr>\n",
       "    <tr>\n",
       "      <th id=\"T_e85be_level0_row2\" class=\"row_heading level0 row2\" >CustomerId</th>\n",
       "      <td id=\"T_e85be_row2_col0\" class=\"data row2 col0\" >0</td>\n",
       "    </tr>\n",
       "    <tr>\n",
       "      <th id=\"T_e85be_level0_row3\" class=\"row_heading level0 row3\" >Surname</th>\n",
       "      <td id=\"T_e85be_row3_col0\" class=\"data row3 col0\" >0</td>\n",
       "    </tr>\n",
       "    <tr>\n",
       "      <th id=\"T_e85be_level0_row4\" class=\"row_heading level0 row4\" >CreditScore</th>\n",
       "      <td id=\"T_e85be_row4_col0\" class=\"data row4 col0\" >0</td>\n",
       "    </tr>\n",
       "    <tr>\n",
       "      <th id=\"T_e85be_level0_row5\" class=\"row_heading level0 row5\" >Geography</th>\n",
       "      <td id=\"T_e85be_row5_col0\" class=\"data row5 col0\" >0</td>\n",
       "    </tr>\n",
       "    <tr>\n",
       "      <th id=\"T_e85be_level0_row6\" class=\"row_heading level0 row6\" >Gender</th>\n",
       "      <td id=\"T_e85be_row6_col0\" class=\"data row6 col0\" >0</td>\n",
       "    </tr>\n",
       "    <tr>\n",
       "      <th id=\"T_e85be_level0_row7\" class=\"row_heading level0 row7\" >Age</th>\n",
       "      <td id=\"T_e85be_row7_col0\" class=\"data row7 col0\" >0</td>\n",
       "    </tr>\n",
       "    <tr>\n",
       "      <th id=\"T_e85be_level0_row8\" class=\"row_heading level0 row8\" >Balance</th>\n",
       "      <td id=\"T_e85be_row8_col0\" class=\"data row8 col0\" >0</td>\n",
       "    </tr>\n",
       "    <tr>\n",
       "      <th id=\"T_e85be_level0_row9\" class=\"row_heading level0 row9\" >NumOfProducts</th>\n",
       "      <td id=\"T_e85be_row9_col0\" class=\"data row9 col0\" >0</td>\n",
       "    </tr>\n",
       "    <tr>\n",
       "      <th id=\"T_e85be_level0_row10\" class=\"row_heading level0 row10\" >HasCrCard</th>\n",
       "      <td id=\"T_e85be_row10_col0\" class=\"data row10 col0\" >0</td>\n",
       "    </tr>\n",
       "    <tr>\n",
       "      <th id=\"T_e85be_level0_row11\" class=\"row_heading level0 row11\" >IsActiveMember</th>\n",
       "      <td id=\"T_e85be_row11_col0\" class=\"data row11 col0\" >0</td>\n",
       "    </tr>\n",
       "    <tr>\n",
       "      <th id=\"T_e85be_level0_row12\" class=\"row_heading level0 row12\" >EstimatedSalary</th>\n",
       "      <td id=\"T_e85be_row12_col0\" class=\"data row12 col0\" >0</td>\n",
       "    </tr>\n",
       "    <tr>\n",
       "      <th id=\"T_e85be_level0_row13\" class=\"row_heading level0 row13\" >Exited</th>\n",
       "      <td id=\"T_e85be_row13_col0\" class=\"data row13 col0\" >0</td>\n",
       "    </tr>\n",
       "  </tbody>\n",
       "</table>\n"
      ],
      "text/plain": [
       "<pandas.io.formats.style.Styler at 0x20eda1c4cd0>"
      ]
     },
     "execution_count": 5,
     "metadata": {},
     "output_type": "execute_result"
    }
   ],
   "source": [
    "pd.DataFrame(df.isna().sum().sort_values(ascending=False)).rename(columns={0: 'spaces'})\\\n",
    ".style.background_gradient('PuBu')"
   ]
  },
  {
   "cell_type": "markdown",
   "metadata": {},
   "source": [
    "Данные почти без пропусков. Пропуски обнаружены только в столбце Tenure и составляют менее 10% от данных. Скорее всего это новые клиенты банка. Присвоим значениям на месте пропусков 0.  И приведем к типу int"
   ]
  },
  {
   "cell_type": "code",
   "execution_count": 6,
   "metadata": {
    "scrolled": true
   },
   "outputs": [
    {
     "data": {
      "image/png": "[encoded data removed]",
      "text/plain": [
       "<Figure size 432x288 with 1 Axes>"
      ]
     },
     "metadata": {
      "needs_background": "light"
     },
     "output_type": "display_data"
    }
   ],
   "source": [
    "df.Tenure.value_counts().sort_index().plot(kind='bar', rot=0, xlabel='Количество лет', ylabel='Количество человек');"
   ]
  },
  {
   "cell_type": "code",
   "execution_count": 7,
   "metadata": {},
   "outputs": [],
   "source": [
    "df.loc[df.Tenure.isna(), 'Tenure'] = df.Tenure.median()\n",
    "df.Tenure = df.Tenure.astype('int')"
   ]
  },
  {
   "cell_type": "code",
   "execution_count": 8,
   "metadata": {},
   "outputs": [
    {
     "data": {
      "text/html": [
       "<style type=\"text/css\">\n",
       "#T_21a25_row0_col0, #T_21a25_row1_col0, #T_21a25_row2_col0, #T_21a25_row3_col0, #T_21a25_row4_col0, #T_21a25_row5_col0, #T_21a25_row6_col0, #T_21a25_row7_col0, #T_21a25_row8_col0, #T_21a25_row9_col0, #T_21a25_row10_col0, #T_21a25_row11_col0, #T_21a25_row12_col0, #T_21a25_row13_col0 {\n",
       "  background-color: #fff7fb;\n",
       "  color: #000000;\n",
       "}\n",
       "</style>\n",
       "<table id=\"T_21a25\">\n",
       "  <thead>\n",
       "    <tr>\n",
       "      <th class=\"blank level0\" >&nbsp;</th>\n",
       "      <th id=\"T_21a25_level0_col0\" class=\"col_heading level0 col0\" >spaces</th>\n",
       "    </tr>\n",
       "  </thead>\n",
       "  <tbody>\n",
       "    <tr>\n",
       "      <th id=\"T_21a25_level0_row0\" class=\"row_heading level0 row0\" >RowNumber</th>\n",
       "      <td id=\"T_21a25_row0_col0\" class=\"data row0 col0\" >0</td>\n",
       "    </tr>\n",
       "    <tr>\n",
       "      <th id=\"T_21a25_level0_row1\" class=\"row_heading level0 row1\" >CustomerId</th>\n",
       "      <td id=\"T_21a25_row1_col0\" class=\"data row1 col0\" >0</td>\n",
       "    </tr>\n",
       "    <tr>\n",
       "      <th id=\"T_21a25_level0_row2\" class=\"row_heading level0 row2\" >Surname</th>\n",
       "      <td id=\"T_21a25_row2_col0\" class=\"data row2 col0\" >0</td>\n",
       "    </tr>\n",
       "    <tr>\n",
       "      <th id=\"T_21a25_level0_row3\" class=\"row_heading level0 row3\" >CreditScore</th>\n",
       "      <td id=\"T_21a25_row3_col0\" class=\"data row3 col0\" >0</td>\n",
       "    </tr>\n",
       "    <tr>\n",
       "      <th id=\"T_21a25_level0_row4\" class=\"row_heading level0 row4\" >Geography</th>\n",
       "      <td id=\"T_21a25_row4_col0\" class=\"data row4 col0\" >0</td>\n",
       "    </tr>\n",
       "    <tr>\n",
       "      <th id=\"T_21a25_level0_row5\" class=\"row_heading level0 row5\" >Gender</th>\n",
       "      <td id=\"T_21a25_row5_col0\" class=\"data row5 col0\" >0</td>\n",
       "    </tr>\n",
       "    <tr>\n",
       "      <th id=\"T_21a25_level0_row6\" class=\"row_heading level0 row6\" >Age</th>\n",
       "      <td id=\"T_21a25_row6_col0\" class=\"data row6 col0\" >0</td>\n",
       "    </tr>\n",
       "    <tr>\n",
       "      <th id=\"T_21a25_level0_row7\" class=\"row_heading level0 row7\" >Tenure</th>\n",
       "      <td id=\"T_21a25_row7_col0\" class=\"data row7 col0\" >0</td>\n",
       "    </tr>\n",
       "    <tr>\n",
       "      <th id=\"T_21a25_level0_row8\" class=\"row_heading level0 row8\" >Balance</th>\n",
       "      <td id=\"T_21a25_row8_col0\" class=\"data row8 col0\" >0</td>\n",
       "    </tr>\n",
       "    <tr>\n",
       "      <th id=\"T_21a25_level0_row9\" class=\"row_heading level0 row9\" >NumOfProducts</th>\n",
       "      <td id=\"T_21a25_row9_col0\" class=\"data row9 col0\" >0</td>\n",
       "    </tr>\n",
       "    <tr>\n",
       "      <th id=\"T_21a25_level0_row10\" class=\"row_heading level0 row10\" >HasCrCard</th>\n",
       "      <td id=\"T_21a25_row10_col0\" class=\"data row10 col0\" >0</td>\n",
       "    </tr>\n",
       "    <tr>\n",
       "      <th id=\"T_21a25_level0_row11\" class=\"row_heading level0 row11\" >IsActiveMember</th>\n",
       "      <td id=\"T_21a25_row11_col0\" class=\"data row11 col0\" >0</td>\n",
       "    </tr>\n",
       "    <tr>\n",
       "      <th id=\"T_21a25_level0_row12\" class=\"row_heading level0 row12\" >EstimatedSalary</th>\n",
       "      <td id=\"T_21a25_row12_col0\" class=\"data row12 col0\" >0</td>\n",
       "    </tr>\n",
       "    <tr>\n",
       "      <th id=\"T_21a25_level0_row13\" class=\"row_heading level0 row13\" >Exited</th>\n",
       "      <td id=\"T_21a25_row13_col0\" class=\"data row13 col0\" >0</td>\n",
       "    </tr>\n",
       "  </tbody>\n",
       "</table>\n"
      ],
      "text/plain": [
       "<pandas.io.formats.style.Styler at 0x20ed46e70d0>"
      ]
     },
     "execution_count": 8,
     "metadata": {},
     "output_type": "execute_result"
    }
   ],
   "source": [
    "pd.DataFrame(df.isna().sum().sort_values(ascending=False)).rename(columns={0: 'spaces'})\\\n",
    ".style.background_gradient('PuBu')"
   ]
  },
  {
   "cell_type": "markdown",
   "metadata": {},
   "source": [
    "Для построения модели нам будут интересны не все столбцы.\n",
    "* RowNumber — индекс строки в данных\n",
    "* CustomerId — уникальный идентификатор клиента\n",
    "* Surname — фамилия\n",
    "\n",
    "Не должны повлиять на возможность оттока клиентов из банка, далее будем работать с датасетом без этих признаков"
   ]
  },
  {
   "cell_type": "code",
   "execution_count": 9,
   "metadata": {
    "scrolled": true
   },
   "outputs": [],
   "source": [
    "df = df.drop(['RowNumber', 'CustomerId', 'Surname'], axis=1)"
   ]
  },
  {
   "cell_type": "markdown",
   "metadata": {},
   "source": [
    "### Кодируем категориальные переменные\n",
    "Кодируем категориальные переменные Geography и Gender с помощью техники OHE"
   ]
  },
  {
   "cell_type": "code",
   "execution_count": 10,
   "metadata": {
    "scrolled": false
   },
   "outputs": [],
   "source": [
    "df = pd.get_dummies(df, drop_first=True);"
   ]
  },
  {
   "cell_type": "markdown",
   "metadata": {},
   "source": [
    "### Масштабиурем признаки\n",
    "Масштабируем признаки - стандартизуя данные. Создадим список numeric с численными признаками"
   ]
  },
  {
   "cell_type": "markdown",
   "metadata": {},
   "source": [
    "## Вывод по блоку \"Предобработка данных\"\n",
    "1. В исходном датасете обнаружены пропуски в столбце Tenure в количестве 9% от общего количества строк датасета. Для сохранения распределения данных - пропуски в Tenure заполнены мединанным значением по данному столбцу. \n",
    "2. В остальных столбцах пропусков не обнаружено.\n",
    "3. Для построения модели нам будут интересны не все столбцы. Не должны повлиять на возможность оттока клиентов из банка. \n",
    "* RowNumber — индекс строки в данных\n",
    "* CustomerId — уникальный идентификатор клиента\n",
    "* Surname — фамилия\n",
    "  <p> <b> Данные признаки удалены из датасета"
   ]
  }
 ],
 "metadata": {
  "ExecuteTimeLog": [
   {
    "duration": 1908,
    "start_time": "2023-01-18T09:23:50.804Z"
   },
   {
    "duration": 206,
    "start_time": "2023-01-18T09:23:52.714Z"
   },
   {
    "duration": 25,
    "start_time": "2023-01-18T09:23:52.921Z"
   },
   {
    "duration": 54,
    "start_time": "2023-01-18T09:23:52.947Z"
   },
   {
    "duration": 4,
    "start_time": "2023-01-18T09:23:53.004Z"
   },
   {
    "duration": 6,
    "start_time": "2023-01-18T09:23:53.010Z"
   },
   {
    "duration": 9,
    "start_time": "2023-01-18T09:23:53.018Z"
   },
   {
    "duration": 22,
    "start_time": "2023-01-18T09:23:53.047Z"
   },
   {
    "duration": 15,
    "start_time": "2023-01-18T09:23:53.070Z"
   },
   {
    "duration": 166,
    "start_time": "2023-01-18T09:23:53.086Z"
   },
   {
    "duration": 10,
    "start_time": "2023-01-18T09:23:53.255Z"
   },
   {
    "duration": 9,
    "start_time": "2023-01-18T09:23:53.267Z"
   },
   {
    "duration": 12,
    "start_time": "2023-01-18T09:23:53.277Z"
   },
   {
    "duration": 2256,
    "start_time": "2023-01-18T09:23:53.293Z"
   },
   {
    "duration": 719,
    "start_time": "2023-01-18T09:23:55.551Z"
   },
   {
    "duration": 8,
    "start_time": "2023-01-18T09:23:56.272Z"
   },
   {
    "duration": 394,
    "start_time": "2023-01-18T09:23:56.281Z"
   },
   {
    "duration": 32795,
    "start_time": "2023-01-18T09:23:56.677Z"
   },
   {
    "duration": 658,
    "start_time": "2023-01-18T09:24:29.473Z"
   },
   {
    "duration": 1533,
    "start_time": "2023-01-18T09:24:30.132Z"
   },
   {
    "duration": 717,
    "start_time": "2023-01-18T09:24:31.749Z"
   },
   {
    "duration": 93,
    "start_time": "2023-01-18T09:24:32.469Z"
   },
   {
    "duration": 105,
    "start_time": "2023-01-18T09:24:32.564Z"
   },
   {
    "duration": 4379,
    "start_time": "2023-01-18T09:24:32.671Z"
   },
   {
    "duration": 349,
    "start_time": "2023-01-18T09:24:37.061Z"
   },
   {
    "duration": 284,
    "start_time": "2023-01-18T09:24:37.412Z"
   },
   {
    "duration": 0,
    "start_time": "2023-01-18T09:24:37.698Z"
   },
   {
    "duration": 0,
    "start_time": "2023-01-18T09:24:37.700Z"
   },
   {
    "duration": 0,
    "start_time": "2023-01-18T09:24:37.701Z"
   },
   {
    "duration": 0,
    "start_time": "2023-01-18T09:24:37.702Z"
   },
   {
    "duration": 0,
    "start_time": "2023-01-18T09:24:37.703Z"
   },
   {
    "duration": 38149,
    "start_time": "2023-01-18T09:49:00.767Z"
   },
   {
    "duration": 676,
    "start_time": "2023-01-18T09:49:38.918Z"
   },
   {
    "duration": 18,
    "start_time": "2023-01-18T09:49:39.597Z"
   },
   {
    "duration": 16,
    "start_time": "2023-01-18T09:49:39.616Z"
   },
   {
    "duration": 185,
    "start_time": "2023-01-18T09:49:39.648Z"
   }
  ],
  "kernelspec": {
   "display_name": "Python 3",
   "language": "python",
   "name": "python3"
  },
  "language_info": {
   "codemirror_mode": {
    "name": "ipython",
    "version": 3
   },
   "file_extension": ".py",
   "mimetype": "text/x-python",
   "name": "python",
   "nbconvert_exporter": "python",
   "pygments_lexer": "ipython3",
   "version": "3.10.6"
  },
  "toc": {
   "base_numbering": 1,
   "nav_menu": {},
   "number_sections": true,
   "sideBar": true,
   "skip_h1_title": true,
   "title_cell": "Содержание",
   "title_sidebar": "Contents",
   "toc_cell": true,
   "toc_position": {},
   "toc_section_display": true,
   "toc_window_display": false
  },
  "vscode": {
   "interpreter": {
    "hash": "61640460cc9e19a368d5e4a7e3b06f569df9972301fb695a0031e6ce2023118f"
   }
  }
 },
 "nbformat": 4,
 "nbformat_minor": 2
}
