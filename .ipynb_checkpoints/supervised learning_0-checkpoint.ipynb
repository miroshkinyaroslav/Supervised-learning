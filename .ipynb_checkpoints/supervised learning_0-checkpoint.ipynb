{
 "cells": [
  {
   "cell_type": "markdown",
   "metadata": {
    "toc": true
   },
   "source": [
    "<h1>Содержание<span class=\"tocSkip\"></span></h1>\n",
    "<div class=\"toc\"><ul class=\"toc-item\"><li><span><a href=\"#Подготовка-данных\" data-toc-modified-id=\"Подготовка-данных-1\"><span class=\"toc-item-num\">1&nbsp;&nbsp;</span>Подготовка данных</a></span></li><li><span><a href=\"#Исследование-задачи\" data-toc-modified-id=\"Исследование-задачи-2\"><span class=\"toc-item-num\">2&nbsp;&nbsp;</span>Исследование задачи</a></span></li><li><span><a href=\"#Борьба-с-дисбалансом\" data-toc-modified-id=\"Борьба-с-дисбалансом-3\"><span class=\"toc-item-num\">3&nbsp;&nbsp;</span>Борьба с дисбалансом</a></span></li><li><span><a href=\"#Тестирование-модели\" data-toc-modified-id=\"Тестирование-модели-4\"><span class=\"toc-item-num\">4&nbsp;&nbsp;</span>Тестирование модели</a></span></li><li><span><a href=\"#Чек-лист-готовности-проекта\" data-toc-modified-id=\"Чек-лист-готовности-проекта-5\"><span class=\"toc-item-num\">5&nbsp;&nbsp;</span>Чек-лист готовности проекта</a></span></li></ul></div>"
   ]
  },
  {
   "cell_type": "markdown",
   "metadata": {},
   "source": [
    "# Отток клиентов"
   ]
  },
  {
   "cell_type": "markdown",
   "metadata": {},
   "source": [
    "Из «Бета-Банка» стали уходить клиенты. Каждый месяц. Немного, но заметно. Банковские маркетологи посчитали: сохранять текущих клиентов дешевле, чем привлекать новых.\n",
    "\n",
    "Нужно спрогнозировать, уйдёт клиент из банка в ближайшее время или нет. Вам предоставлены исторические данные о поведении клиентов и расторжении договоров с банком. \n",
    "\n",
    "Постройте модель с предельно большим значением *F1*-меры. Чтобы сдать проект успешно, нужно довести метрику до 0.59. Проверьте *F1*-меру на тестовой выборке самостоятельно.\n",
    "\n",
    "Дополнительно измеряйте *AUC-ROC*, сравнивайте её значение с *F1*-мерой.\n",
    "\n",
    "Источник данных: [https://www.kaggle.com/barelydedicated/bank-customer-churn-modeling](https://www.kaggle.com/barelydedicated/bank-customer-churn-modeling)"
   ]
  },
  {
   "cell_type": "markdown",
   "metadata": {},
   "source": [
    "### Цели\n",
    "Построение математической модели на основе исторический данных, для прогнозирования оттока клиентов \"Бета-Банка\".\n",
    "### Описание данных\n",
    "\n",
    "* RowNumber — индекс строки в данных\n",
    "* CustomerId — уникальный идентификатор клиента\n",
    "* Surname — фамилия\n",
    "* CreditScore — кредитный рейтинг\n",
    "* Geography — страна проживания\n",
    "* Gender — пол\n",
    "* Age — возраст\n",
    "* Tenure — сколько лет человек является клиентом банка\n",
    "* Balance — баланс на счёте\n",
    "* NumOfProducts — количество продуктов банка, используемых клиентом\n",
    "* HasCrCard — наличие кредитной карты\n",
    "* IsActiveMember — активность клиента\n",
    "* EstimatedSalary — предполагаемая зарплата\n",
    "\n",
    "* Exited — факт ухода клиента"
   ]
  },
  {
   "cell_type": "code",
   "execution_count": 27,
   "metadata": {},
   "outputs": [],
   "source": [
    "#importing libraries\n",
    "import pandas as pd\n",
    "import os\n",
    "import numpy as np\n",
    "import seaborn as sns\n",
    "from tqdm import tqdm\n",
    "import matplotlib.pyplot as plt\n",
    "from sklearn.preprocessing import StandardScaler \n",
    "from sklearn.model_selection import train_test_split\n",
    "from sklearn.tree import DecisionTreeClassifier\n",
    "from sklearn.ensemble import RandomForestClassifier\n",
    "from sklearn.linear_model import LogisticRegression \n",
    "from sklearn.metrics import accuracy_score, recall_score, precision_score, f1_score\n",
    "from sklearn.metrics import confusion_matrix, ConfusionMatrixDisplay\n",
    "from sklearn.model_selection import GridSearchCV\n",
    "from sklearn.metrics import roc_curve, roc_auc_score\n",
    "from sklearn.metrics import classification_report\n"
   ]
  },
  {
   "cell_type": "markdown",
   "metadata": {},
   "source": [
    "## Подготовка данных"
   ]
  },
  {
   "cell_type": "code",
   "execution_count": 2,
   "metadata": {
    "scrolled": true
   },
   "outputs": [
    {
     "name": "stdout",
     "output_type": "stream",
     "text": [
      "Датасет успешно считан\n"
     ]
    }
   ],
   "source": [
    "#open dataset\n",
    "pth1 = '/datasets/Churn.csv'\n",
    "pth2 = 'datasets/Churn.csv'\n",
    "\n",
    "if os.path.exists(pth1):\n",
    "    df = pd.read_csv(pth1)\n",
    "    print('Датасет успешно считан')\n",
    "elif os.path.exists(pth2):\n",
    "    df = pd.read_csv(pth2)\n",
    "    print('Датасет успешно считан')\n",
    "else:\n",
    "    print('Не удалось открыть файл')"
   ]
  },
  {
   "cell_type": "code",
   "execution_count": 3,
   "metadata": {
    "scrolled": false
   },
   "outputs": [
    {
     "data": {
      "text/html": [
       "<div>\n",
       "<style scoped>\n",
       "    .dataframe tbody tr th:only-of-type {\n",
       "        vertical-align: middle;\n",
       "    }\n",
       "\n",
       "    .dataframe tbody tr th {\n",
       "        vertical-align: top;\n",
       "    }\n",
       "\n",
       "    .dataframe thead th {\n",
       "        text-align: right;\n",
       "    }\n",
       "</style>\n",
       "<table border=\"1\" class=\"dataframe\">\n",
       "  <thead>\n",
       "    <tr style=\"text-align: right;\">\n",
       "      <th></th>\n",
       "      <th>RowNumber</th>\n",
       "      <th>CustomerId</th>\n",
       "      <th>Surname</th>\n",
       "      <th>CreditScore</th>\n",
       "      <th>Geography</th>\n",
       "      <th>Gender</th>\n",
       "      <th>Age</th>\n",
       "      <th>Tenure</th>\n",
       "      <th>Balance</th>\n",
       "      <th>NumOfProducts</th>\n",
       "      <th>HasCrCard</th>\n",
       "      <th>IsActiveMember</th>\n",
       "      <th>EstimatedSalary</th>\n",
       "      <th>Exited</th>\n",
       "    </tr>\n",
       "  </thead>\n",
       "  <tbody>\n",
       "    <tr>\n",
       "      <th>0</th>\n",
       "      <td>1</td>\n",
       "      <td>15634602</td>\n",
       "      <td>Hargrave</td>\n",
       "      <td>619</td>\n",
       "      <td>France</td>\n",
       "      <td>Female</td>\n",
       "      <td>42</td>\n",
       "      <td>2.0</td>\n",
       "      <td>0.00</td>\n",
       "      <td>1</td>\n",
       "      <td>1</td>\n",
       "      <td>1</td>\n",
       "      <td>101348.88</td>\n",
       "      <td>1</td>\n",
       "    </tr>\n",
       "    <tr>\n",
       "      <th>1</th>\n",
       "      <td>2</td>\n",
       "      <td>15647311</td>\n",
       "      <td>Hill</td>\n",
       "      <td>608</td>\n",
       "      <td>Spain</td>\n",
       "      <td>Female</td>\n",
       "      <td>41</td>\n",
       "      <td>1.0</td>\n",
       "      <td>83807.86</td>\n",
       "      <td>1</td>\n",
       "      <td>0</td>\n",
       "      <td>1</td>\n",
       "      <td>112542.58</td>\n",
       "      <td>0</td>\n",
       "    </tr>\n",
       "    <tr>\n",
       "      <th>2</th>\n",
       "      <td>3</td>\n",
       "      <td>15619304</td>\n",
       "      <td>Onio</td>\n",
       "      <td>502</td>\n",
       "      <td>France</td>\n",
       "      <td>Female</td>\n",
       "      <td>42</td>\n",
       "      <td>8.0</td>\n",
       "      <td>159660.80</td>\n",
       "      <td>3</td>\n",
       "      <td>1</td>\n",
       "      <td>0</td>\n",
       "      <td>113931.57</td>\n",
       "      <td>1</td>\n",
       "    </tr>\n",
       "  </tbody>\n",
       "</table>\n",
       "</div>"
      ],
      "text/plain": [
       "   RowNumber  CustomerId   Surname  CreditScore Geography  Gender  Age  \\\n",
       "0          1    15634602  Hargrave          619    France  Female   42   \n",
       "1          2    15647311      Hill          608     Spain  Female   41   \n",
       "2          3    15619304      Onio          502    France  Female   42   \n",
       "\n",
       "   Tenure    Balance  NumOfProducts  HasCrCard  IsActiveMember  \\\n",
       "0     2.0       0.00              1          1               1   \n",
       "1     1.0   83807.86              1          0               1   \n",
       "2     8.0  159660.80              3          1               0   \n",
       "\n",
       "   EstimatedSalary  Exited  \n",
       "0        101348.88       1  \n",
       "1        112542.58       0  \n",
       "2        113931.57       1  "
      ]
     },
     "metadata": {},
     "output_type": "display_data"
    },
    {
     "name": "stdout",
     "output_type": "stream",
     "text": [
      "<class 'pandas.core.frame.DataFrame'>\n",
      "RangeIndex: 10000 entries, 0 to 9999\n",
      "Data columns (total 14 columns):\n",
      " #   Column           Non-Null Count  Dtype  \n",
      "---  ------           --------------  -----  \n",
      " 0   RowNumber        10000 non-null  int64  \n",
      " 1   CustomerId       10000 non-null  int64  \n",
      " 2   Surname          10000 non-null  object \n",
      " 3   CreditScore      10000 non-null  int64  \n",
      " 4   Geography        10000 non-null  object \n",
      " 5   Gender           10000 non-null  object \n",
      " 6   Age              10000 non-null  int64  \n",
      " 7   Tenure           9091 non-null   float64\n",
      " 8   Balance          10000 non-null  float64\n",
      " 9   NumOfProducts    10000 non-null  int64  \n",
      " 10  HasCrCard        10000 non-null  int64  \n",
      " 11  IsActiveMember   10000 non-null  int64  \n",
      " 12  EstimatedSalary  10000 non-null  float64\n",
      " 13  Exited           10000 non-null  int64  \n",
      "dtypes: float64(3), int64(8), object(3)\n",
      "memory usage: 1.1+ MB\n"
     ]
    }
   ],
   "source": [
    "#first view\n",
    "display(df.head(3))\n",
    "df.info()"
   ]
  },
  {
   "cell_type": "markdown",
   "metadata": {},
   "source": [
    "### Пропуски в данных\n",
    "Проверим, есть ли пропуски в данных"
   ]
  },
  {
   "cell_type": "code",
   "execution_count": 4,
   "metadata": {},
   "outputs": [
    {
     "data": {
      "text/html": [
       "<style type=\"text/css\">\n",
       "#T_7ed1c_row0_col0 {\n",
       "  background-color: #023858;\n",
       "  color: #f1f1f1;\n",
       "}\n",
       "#T_7ed1c_row1_col0, #T_7ed1c_row2_col0, #T_7ed1c_row3_col0, #T_7ed1c_row4_col0, #T_7ed1c_row5_col0, #T_7ed1c_row6_col0, #T_7ed1c_row7_col0, #T_7ed1c_row8_col0, #T_7ed1c_row9_col0, #T_7ed1c_row10_col0, #T_7ed1c_row11_col0, #T_7ed1c_row12_col0, #T_7ed1c_row13_col0 {\n",
       "  background-color: #fff7fb;\n",
       "  color: #000000;\n",
       "}\n",
       "</style>\n",
       "<table id=\"T_7ed1c\">\n",
       "  <thead>\n",
       "    <tr>\n",
       "      <th class=\"blank level0\" >&nbsp;</th>\n",
       "      <th id=\"T_7ed1c_level0_col0\" class=\"col_heading level0 col0\" >spaces</th>\n",
       "    </tr>\n",
       "  </thead>\n",
       "  <tbody>\n",
       "    <tr>\n",
       "      <th id=\"T_7ed1c_level0_row0\" class=\"row_heading level0 row0\" >Tenure</th>\n",
       "      <td id=\"T_7ed1c_row0_col0\" class=\"data row0 col0\" >909</td>\n",
       "    </tr>\n",
       "    <tr>\n",
       "      <th id=\"T_7ed1c_level0_row1\" class=\"row_heading level0 row1\" >RowNumber</th>\n",
       "      <td id=\"T_7ed1c_row1_col0\" class=\"data row1 col0\" >0</td>\n",
       "    </tr>\n",
       "    <tr>\n",
       "      <th id=\"T_7ed1c_level0_row2\" class=\"row_heading level0 row2\" >CustomerId</th>\n",
       "      <td id=\"T_7ed1c_row2_col0\" class=\"data row2 col0\" >0</td>\n",
       "    </tr>\n",
       "    <tr>\n",
       "      <th id=\"T_7ed1c_level0_row3\" class=\"row_heading level0 row3\" >Surname</th>\n",
       "      <td id=\"T_7ed1c_row3_col0\" class=\"data row3 col0\" >0</td>\n",
       "    </tr>\n",
       "    <tr>\n",
       "      <th id=\"T_7ed1c_level0_row4\" class=\"row_heading level0 row4\" >CreditScore</th>\n",
       "      <td id=\"T_7ed1c_row4_col0\" class=\"data row4 col0\" >0</td>\n",
       "    </tr>\n",
       "    <tr>\n",
       "      <th id=\"T_7ed1c_level0_row5\" class=\"row_heading level0 row5\" >Geography</th>\n",
       "      <td id=\"T_7ed1c_row5_col0\" class=\"data row5 col0\" >0</td>\n",
       "    </tr>\n",
       "    <tr>\n",
       "      <th id=\"T_7ed1c_level0_row6\" class=\"row_heading level0 row6\" >Gender</th>\n",
       "      <td id=\"T_7ed1c_row6_col0\" class=\"data row6 col0\" >0</td>\n",
       "    </tr>\n",
       "    <tr>\n",
       "      <th id=\"T_7ed1c_level0_row7\" class=\"row_heading level0 row7\" >Age</th>\n",
       "      <td id=\"T_7ed1c_row7_col0\" class=\"data row7 col0\" >0</td>\n",
       "    </tr>\n",
       "    <tr>\n",
       "      <th id=\"T_7ed1c_level0_row8\" class=\"row_heading level0 row8\" >Balance</th>\n",
       "      <td id=\"T_7ed1c_row8_col0\" class=\"data row8 col0\" >0</td>\n",
       "    </tr>\n",
       "    <tr>\n",
       "      <th id=\"T_7ed1c_level0_row9\" class=\"row_heading level0 row9\" >NumOfProducts</th>\n",
       "      <td id=\"T_7ed1c_row9_col0\" class=\"data row9 col0\" >0</td>\n",
       "    </tr>\n",
       "    <tr>\n",
       "      <th id=\"T_7ed1c_level0_row10\" class=\"row_heading level0 row10\" >HasCrCard</th>\n",
       "      <td id=\"T_7ed1c_row10_col0\" class=\"data row10 col0\" >0</td>\n",
       "    </tr>\n",
       "    <tr>\n",
       "      <th id=\"T_7ed1c_level0_row11\" class=\"row_heading level0 row11\" >IsActiveMember</th>\n",
       "      <td id=\"T_7ed1c_row11_col0\" class=\"data row11 col0\" >0</td>\n",
       "    </tr>\n",
       "    <tr>\n",
       "      <th id=\"T_7ed1c_level0_row12\" class=\"row_heading level0 row12\" >EstimatedSalary</th>\n",
       "      <td id=\"T_7ed1c_row12_col0\" class=\"data row12 col0\" >0</td>\n",
       "    </tr>\n",
       "    <tr>\n",
       "      <th id=\"T_7ed1c_level0_row13\" class=\"row_heading level0 row13\" >Exited</th>\n",
       "      <td id=\"T_7ed1c_row13_col0\" class=\"data row13 col0\" >0</td>\n",
       "    </tr>\n",
       "  </tbody>\n",
       "</table>\n"
      ],
      "text/plain": [
       "<pandas.io.formats.style.Styler at 0x1d1bec74c40>"
      ]
     },
     "execution_count": 4,
     "metadata": {},
     "output_type": "execute_result"
    }
   ],
   "source": [
    "pd.DataFrame(df.isna().sum().sort_values(ascending=False)).rename(columns={0: 'spaces'})\\\n",
    ".style.background_gradient('PuBu')"
   ]
  },
  {
   "cell_type": "markdown",
   "metadata": {},
   "source": [
    "Данные почти без пропусков. Пропуски обнаружены только в столбце Tenure и составляют менее 10% от данных. Скорее всего это новые клиенты банка. Присвоим значениям на месте пропусков 0.  И приведем к типу int"
   ]
  },
  {
   "cell_type": "code",
   "execution_count": 5,
   "metadata": {},
   "outputs": [],
   "source": [
    "df.loc[df.Tenure.isna(), 'Tenure'] = 0\n",
    "df.Tenure = df.Tenure.astype('int')"
   ]
  },
  {
   "cell_type": "markdown",
   "metadata": {},
   "source": [
    "Для построения модели нам будут интересны не все столбцы.\n",
    "* RowNumber — индекс строки в данных\n",
    "* CustomerId — уникальный идентификатор клиента\n",
    "* Surname — фамилия\n",
    "\n",
    "Не должны повлиять на возможность оттока клиентов из банка, далее будем работать с датасетом без этих признаков"
   ]
  },
  {
   "cell_type": "code",
   "execution_count": 6,
   "metadata": {
    "scrolled": true
   },
   "outputs": [],
   "source": [
    "df = df.drop(['RowNumber', 'CustomerId', 'Surname'], axis=1)"
   ]
  },
  {
   "cell_type": "markdown",
   "metadata": {},
   "source": [
    "### Кодируем категориальные переменные\n",
    "Кодируем категориальные переменные Geography и Gender с помощью техники OHE"
   ]
  },
  {
   "cell_type": "code",
   "execution_count": 7,
   "metadata": {
    "scrolled": false
   },
   "outputs": [],
   "source": [
    "df = pd.get_dummies(df, drop_first=True);"
   ]
  },
  {
   "cell_type": "markdown",
   "metadata": {},
   "source": [
    "### Масштабиурем признаки\n",
    "Масштабируем признаки - стандартизуя данные. Создадим список numeric с численными признаками"
   ]
  },
  {
   "cell_type": "code",
   "execution_count": 8,
   "metadata": {},
   "outputs": [],
   "source": [
    "numeric = ['Balance', 'EstimatedSalary']\n",
    "scaler = StandardScaler()\n",
    "scaler.fit(df[numeric])\n",
    "df[numeric] = scaler.transform(df[numeric])"
   ]
  },
  {
   "cell_type": "markdown",
   "metadata": {},
   "source": [
    "## Исследование задачи"
   ]
  },
  {
   "cell_type": "markdown",
   "metadata": {},
   "source": [
    "### Исследуем баланс классов"
   ]
  },
  {
   "cell_type": "code",
   "execution_count": 9,
   "metadata": {},
   "outputs": [
    {
     "data": {
      "image/png": "[encoded data removed]",
      "text/plain": [
       "<Figure size 720x504 with 1 Axes>"
      ]
     },
     "metadata": {
      "needs_background": "light"
     },
     "output_type": "display_data"
    }
   ],
   "source": [
    "df.Exited.value_counts(normalize=True)\\\n",
    ".plot(kind='bar', rot=0, figsize=(10,7), grid=True, alpha=0.9, title='Баланс классов целевой переменной (уход клиента)');"
   ]
  },
  {
   "cell_type": "markdown",
   "metadata": {},
   "source": [
    "Данные не сбалансированы, клиенты чаще остаются в банке, чем уходят. Соотношение классов примерно 4 к 1. Тем не менее, класс \"1\" представляет для нас больший интерес, так как мы хотим прогнозировать именно его"
   ]
  },
  {
   "cell_type": "markdown",
   "metadata": {},
   "source": [
    "### Изучение модели без учета дисбаланса"
   ]
  },
  {
   "cell_type": "markdown",
   "metadata": {},
   "source": [
    "Создадим функцию для построения PR кривой"
   ]
  },
  {
   "cell_type": "code",
   "execution_count": 155,
   "metadata": {
    "scrolled": false
   },
   "outputs": [],
   "source": [
    "def pr_f1(recall, precision):\n",
    "    fig, ax = plt.subplots(1,1, figsize=(12,7))\n",
    "    x, y = np.meshgrid(np.linspace(0,1, 1000), np.linspace(0, 1, 1000))\n",
    "    f1 = 2*x*y / (x+y)\n",
    "    plt.contourf(x,y,f1, levels=20)\n",
    "    plt.colorbar()\n",
    "    ax.set_xlabel('Precision', fontsize=16)\n",
    "    ax.set_ylabel('Recall', fontsize=16)\n",
    "    ax.set_title('F1-Мера\\n', fontsize=16)\n",
    "    f1_min = 0.59\n",
    "    x_1 = np.linspace(0.42,1,100)\n",
    "    y_1 = -f1_min * x_1 / (f1_min - 2*x_1)\n",
    "    ax.plot(x_1, y_1, c='black', linewidth=3, linestyle='solid', label='Пороговое значение F1-Меры: 0.59')\n",
    "    ax.legend()\n",
    "    ax.scatter(recall, precision, c='r', linewidth=5)\n",
    "    \n",
    "    \n",
    "    \n",
    "    \n",
    "\n"
   ]
  },
  {
   "cell_type": "markdown",
   "metadata": {},
   "source": [
    "Разобьем данные на тренировочную, валидационную и тестовую выборку. Используем stratify для сохранения пропорций классов"
   ]
  },
  {
   "cell_type": "code",
   "execution_count": 10,
   "metadata": {},
   "outputs": [],
   "source": [
    "features = df.drop('Exited', axis=1)\n",
    "target = df.Exited"
   ]
  },
  {
   "cell_type": "code",
   "execution_count": 11,
   "metadata": {},
   "outputs": [],
   "source": [
    "features_train, features_valid_test, target_train, target_valid_test = train_test_split(\n",
    "    features, target, test_size = 0.4, random_state = 42, stratify=target)\n",
    "features_valid, features_test, target_valid, target_test = train_test_split(\n",
    "    features_valid_test, target_valid_test, test_size = 0.5, random_state = 42, stratify=target_valid_test)"
   ]
  },
  {
   "cell_type": "markdown",
   "metadata": {},
   "source": [
    "#### Логистическая регрессия"
   ]
  },
  {
   "cell_type": "code",
   "execution_count": 150,
   "metadata": {},
   "outputs": [
    {
     "name": "stderr",
     "output_type": "stream",
     "text": [
      "100%|████████████████████████████████████████████████████████████████████████████████████| 6/6 [00:00<00:00,  6.24it/s]"
     ]
    },
    {
     "name": "stdout",
     "output_type": "stream",
     "text": [
      "F1-Мера: 0.32608695652173914\n",
      "Лучший алгоритм: lbfgs\n",
      "CPU times: total: 969 ms\n",
      "Wall time: 965 ms\n"
     ]
    },
    {
     "name": "stderr",
     "output_type": "stream",
     "text": [
      "\n"
     ]
    }
   ],
   "source": [
    "%%time\n",
    "best_model_log_non_balanced = None\n",
    "best_f1 = 0\n",
    "best_solv = ''\n",
    "precision_data = []\n",
    "recall_data = []\n",
    "for solv in tqdm(['lbfgs', 'liblinear', 'newton-cg', 'newton-cholesky', 'sag', 'saga']):\n",
    "    model_log_non_balanced =LogisticRegression(random_state=42, solver='lbfgs', max_iter=10000)\n",
    "    model_log_non_balanced.fit(features_train, target_train)\n",
    "    target_predict = model_log_non_balanced.predict(features_valid)\n",
    "    result_f1 = f1_score(target_valid, target_predict)\n",
    "    precision_data.append(precision_score(target_valid, model_log_non_balanced.predict(features_valid)))\n",
    "    recall_data.append(recall_score(target_valid, model_log_non_balanced.predict(features_valid)))\n",
    "    if result_f1 > best_f1: \n",
    "        best_f1 = result_f1\n",
    "        best_solv = solv\n",
    "        best_model_log_non_balanced = model_log_non_balanced\n",
    "\n",
    "print(f'F1-Мера: {result_f1}\\n\\\n",
    "Лучший алгоритм: {best_solv}')"
   ]
  },
  {
   "cell_type": "code",
   "execution_count": 156,
   "metadata": {
    "scrolled": false
   },
   "outputs": [
    {
     "name": "stderr",
     "output_type": "stream",
     "text": [
      "C:\\Users\\miros\\AppData\\Local\\Temp\\ipykernel_12004\\3519621656.py:4: RuntimeWarning: invalid value encountered in true_divide\n",
      "  f1 = 2*x*y / (x+y)\n"
     ]
    },
    {
     "data": {
      "image/png": "[encoded data removed]",
      "text/plain": [
       "<Figure size 864x504 with 2 Axes>"
      ]
     },
     "metadata": {
      "needs_background": "light"
     },
     "output_type": "display_data"
    }
   ],
   "source": [
    "pr_f1(recall_data,precision_data)"
   ]
  },
  {
   "cell_type": "markdown",
   "metadata": {},
   "source": [
    "<div class=\"alert alert-info\">\n",
    "    <font size=\"4\", color = \"black\">Долго и упорно я хотел построить красивый график для PR кривой и контурами из F1 меры. Оказалось, что вне зависимости от алгоритма расчета логистическая регрессия выдает все время одинаковые значения precision и recall. В итоге приходиться довольствоваться ОДНОЙ красной  😂 точкой на графике с единственным выводом, что значение F1-Меры ниже погорогового для сдачи проекта)</font>\n",
    "    <br /> \n",
    "    <font size=\"3\", color = \"black\">\n",
    "<br /> ... , вот мой вопрос ... не понимаю какие гиперпараметры варьировать для повышения метрик можно подсказку?\n",
    "        "
   ]
  },
  {
   "cell_type": "code",
   "execution_count": 19,
   "metadata": {},
   "outputs": [
    {
     "name": "stdout",
     "output_type": "stream",
     "text": [
      "              precision    recall  f1-score   support\n",
      "\n",
      "           0       0.83      0.97      0.89      1592\n",
      "           1       0.62      0.22      0.33       408\n",
      "\n",
      "    accuracy                           0.81      2000\n",
      "   macro avg       0.73      0.59      0.61      2000\n",
      "weighted avg       0.79      0.81      0.78      2000\n",
      "\n"
     ]
    }
   ],
   "source": [
    "print(classification_report(target_valid, target_predict))"
   ]
  },
  {
   "cell_type": "code",
   "execution_count": 22,
   "metadata": {},
   "outputs": [
    {
     "data": {
      "image/png": "[encoded data removed]",
      "text/plain": [
       "<Figure size 1080x432 with 1 Axes>"
      ]
     },
     "metadata": {
      "needs_background": "light"
     },
     "output_type": "display_data"
    }
   ],
   "source": [
    "probabilities_valid = best_model_log_non_balanced.predict_proba(features_valid)\n",
    "probabilities_one_valid = probabilities_valid[:, 1]\n",
    "fpr, tpr, thresholds = roc_curve(target_valid, probabilities_one_valid) \n",
    "fig, ax = plt.subplots(figsize=(15,6))\n",
    "plt.plot(fpr, tpr);\n",
    "plt.grid()\n",
    "plt.title('ROC Curve non balanced\\n', fontsize=16);\n",
    "plt.xlabel('\\n False Positive Rate', fontsize=16);\n",
    "plt.ylabel('True Positive Rate', fontsize=16)\n",
    "plt.plot([0,1], [0,1], linestyle='--', c='r');\n",
    "ax.text(0.6, 0.2, 'AUC-ROC = ' + str(roc_auc_score(target_valid,  probabilities_one_valid)), fontsize=16);"
   ]
  },
  {
   "cell_type": "markdown",
   "metadata": {},
   "source": [
    "#### Случайный лес"
   ]
  },
  {
   "cell_type": "code",
   "execution_count": 14,
   "metadata": {
    "scrolled": true
   },
   "outputs": [
    {
     "name": "stderr",
     "output_type": "stream",
     "text": [
      "100%|████████████████████████████████████████████████████████████████████████████████████| 9/9 [00:17<00:00,  1.90s/it]"
     ]
    },
    {
     "name": "stdout",
     "output_type": "stream",
     "text": [
      "Наибольшая доля правильных ответов: 0.6093750000000001 \n",
      "при максимальной глубине дерева: 8\n",
      "при количестве оценщиков: 7\n",
      "Минимальный размер конечного узла: 2\n",
      "CPU times: total: 17.2 s\n",
      "Wall time: 17.1 s\n"
     ]
    },
    {
     "name": "stderr",
     "output_type": "stream",
     "text": [
      "\n"
     ]
    }
   ],
   "source": [
    "%%time\n",
    "best_model_forest_classifier_non_balanced = None\n",
    "best_f1 = 0\n",
    "best_depth = 0\n",
    "best_estimators = 0\n",
    "best_leaf = 0\n",
    "f1_data = {\n",
    "    'train': [],\n",
    "    'valid': []\n",
    "    \n",
    "}\n",
    "\n",
    "for depth in tqdm(range(1,10)):\n",
    "    for est in range(1,10):\n",
    "        for leaf in range(1,10):\n",
    "            #initialize model\n",
    "            model = RandomForestClassifier(random_state=42, max_depth=depth, n_estimators=est, min_samples_leaf=leaf)\n",
    "            model.fit(features_train, target_train)\n",
    "            target_predict = model.predict(features_valid)\n",
    "            result_f1 = f1_score(target_valid, target_predict)\n",
    "            f1_data.get('train').append(f1_score(target_train, model.predict(features_train)))\n",
    "            f1_data.get('valid').append(f1_score(target_valid, model.predict(features_valid)))\n",
    "            if  result_f1 > best_f1:\n",
    "                best_f1 = result_f1\n",
    "                best_model_forest_classifier_non_balanced = model\n",
    "                best_depth = depth\n",
    "                best_estimators = est\n",
    "                best_leaf = leaf\n",
    "print(f'Наибольшая доля правильных ответов: {best_f1} \\n\\\n",
    "при максимальной глубине дерева: {best_depth}\\n\\\n",
    "при количестве оценщиков: {best_estimators}\\n\\\n",
    "Минимальный размер конечного узла: {best_leaf}')\n"
   ]
  },
  {
   "cell_type": "markdown",
   "metadata": {},
   "source": [
    "## Борьба с дисбалансом"
   ]
  },
  {
   "cell_type": "markdown",
   "metadata": {},
   "source": [
    "### Логистическая регрессия (дисбаланс)"
   ]
  },
  {
   "cell_type": "code",
   "execution_count": 15,
   "metadata": {},
   "outputs": [
    {
     "name": "stdout",
     "output_type": "stream",
     "text": [
      "F1-Мера: 0.5187074829931972\n"
     ]
    }
   ],
   "source": [
    "model_log_balanced =LogisticRegression(random_state=42, solver='liblinear', max_iter=1000, class_weight='balanced')\n",
    "model_log_balanced.fit(features_train, target_train)\n",
    "target_predict = model_log_balanced.predict(features_valid)\n",
    "result_f1 = f1_score(target_valid, target_predict)\n",
    "print(f'F1-Мера: {result_f1}')"
   ]
  },
  {
   "cell_type": "code",
   "execution_count": 16,
   "metadata": {},
   "outputs": [
    {
     "data": {
      "image/png": "[encoded data removed]",
      "text/plain": [
       "<Figure size 1080x432 with 1 Axes>"
      ]
     },
     "metadata": {
      "needs_background": "light"
     },
     "output_type": "display_data"
    }
   ],
   "source": [
    "probabilities_valid = model_log_balanced.predict_proba(features_valid)\n",
    "probabilities_one_valid = probabilities_valid[:, 1]\n",
    "fpr, tpr, thresholds = roc_curve(target_valid, probabilities_one_valid) \n",
    "fig, ax = plt.subplots(figsize=(15,6))\n",
    "plt.plot(fpr, tpr);\n",
    "plt.grid()\n",
    "plt.title('ROC Curve balanced \\n', fontsize=16);\n",
    "plt.xlabel('\\n False Positive Rate', fontsize=16);\n",
    "plt.ylabel('True Positive Rate', fontsize=16)\n",
    "plt.plot([0,1], [0,1], linestyle='--', c='r');\n",
    "ax.text(0.6, 0.2, 'AUC-ROC = ' + str(roc_auc_score(target_valid,  probabilities_one_valid)), fontsize=16);"
   ]
  },
  {
   "cell_type": "markdown",
   "metadata": {},
   "source": [
    "### Случайный лес (дисбаланс классов)"
   ]
  },
  {
   "cell_type": "code",
   "execution_count": 17,
   "metadata": {},
   "outputs": [
    {
     "name": "stderr",
     "output_type": "stream",
     "text": [
      "100%|████████████████████████████████████████████████████████████████████████████████████| 9/9 [00:17<00:00,  1.97s/it]"
     ]
    },
    {
     "name": "stdout",
     "output_type": "stream",
     "text": [
      "Наибольшая доля правильных ответов: 0.6271186440677965 \n",
      "при максимальной глубине дерева: 7\n",
      "при количестве оценщиков: 7\n",
      "Минимальный размер конечного узла: 5\n",
      "CPU times: total: 17.7 s\n",
      "Wall time: 17.7 s\n"
     ]
    },
    {
     "name": "stderr",
     "output_type": "stream",
     "text": [
      "\n"
     ]
    }
   ],
   "source": [
    "%%time\n",
    "best_model_forest_classifier_balanced = None\n",
    "best_f1 = 0\n",
    "best_depth = 0\n",
    "best_estimators = 0\n",
    "best_leaf = 0\n",
    "f1_data = {\n",
    "    'train': [],\n",
    "    'valid': []\n",
    "    \n",
    "}\n",
    "for depth in tqdm(range(1,10)):\n",
    "    for est in range(1,10):\n",
    "        for leaf in range(1,10):\n",
    "            #initialize model\n",
    "            model = RandomForestClassifier(random_state=42, max_depth=depth, \\\n",
    "                                           n_estimators=est, min_samples_leaf=leaf, class_weight='balanced')\n",
    "            model.fit(features_train, target_train)\n",
    "            target_predict = model.predict(features_valid)\n",
    "            result_f1 = f1_score(target_valid, target_predict)\n",
    "            f1_data.get('train').append(f1_score(target_train, model.predict(features_train)))\n",
    "            f1_data.get('valid').append(f1_score(target_valid, model.predict(features_valid)))\n",
    "            if  result_f1 > best_f1:\n",
    "                best_f1 = result_f1\n",
    "                best_model_forest_classifier_balanced = model\n",
    "                best_depth = depth\n",
    "                best_estimators = est\n",
    "                best_leaf = leaf\n",
    "print(f'Наибольшая доля правильных ответов: {best_f1} \\n\\\n",
    "при максимальной глубине дерева: {best_depth}\\n\\\n",
    "при количестве оценщиков: {best_estimators}\\n\\\n",
    "Минимальный размер конечного узла: {best_leaf}')\n"
   ]
  },
  {
   "cell_type": "markdown",
   "metadata": {},
   "source": [
    "## Тестирование модели"
   ]
  },
  {
   "cell_type": "markdown",
   "metadata": {},
   "source": [
    "### Случайный лес (тестирование)"
   ]
  },
  {
   "cell_type": "code",
   "execution_count": 18,
   "metadata": {},
   "outputs": [
    {
     "name": "stdout",
     "output_type": "stream",
     "text": [
      "F1: 0.5960698689956333\n",
      "precision: 0.5363457760314342\n",
      "recall: 0.6707616707616708\n"
     ]
    }
   ],
   "source": [
    "target_predict = best_model_forest_classifier_balanced.predict(features_test)\n",
    "print(f'F1: {f1_score(target_test, target_predict)}\\n\\\n",
    "precision: {precision_score(target_test, target_predict)}\\n\\\n",
    "recall: {recall_score(target_test, target_predict)}')"
   ]
  },
  {
   "cell_type": "code",
   "execution_count": 19,
   "metadata": {},
   "outputs": [
    {
     "data": {
      "image/png": "[encoded data removed]",
      "text/plain": [
       "<Figure size 432x288 with 2 Axes>"
      ]
     },
     "metadata": {
      "needs_background": "light"
     },
     "output_type": "display_data"
    }
   ],
   "source": [
    "cm = confusion_matrix(target_test,target_predict)\n",
    "ConfusionMatrixDisplay(cm).plot();"
   ]
  },
  {
   "cell_type": "markdown",
   "metadata": {},
   "source": [
    "### Логистическая регрессия (тестирование)"
   ]
  },
  {
   "cell_type": "code",
   "execution_count": null,
   "metadata": {},
   "outputs": [],
   "source": []
  },
  {
   "cell_type": "markdown",
   "metadata": {},
   "source": [
    "## Чек-лист готовности проекта"
   ]
  },
  {
   "cell_type": "markdown",
   "metadata": {},
   "source": [
    "Поставьте 'x' в выполненных пунктах. Далее нажмите Shift+Enter."
   ]
  },
  {
   "cell_type": "markdown",
   "metadata": {},
   "source": [
    "- [x]  Jupyter Notebook открыт\n",
    "- [x]  Весь код выполняется без ошибок\n",
    "- [x]  Ячейки с кодом расположены в порядке исполнения\n",
    "- [x]  Выполнен шаг 1: данные подготовлены\n",
    "- [ ]  Выполнен шаг 2: задача исследована\n",
    "    - [x]  Исследован баланс классов\n",
    "    - [ ]  Изучены модели без учёта дисбаланса\n",
    "    - [ ]  Написаны выводы по результатам исследования\n",
    "- [ ]  Выполнен шаг 3: учтён дисбаланс\n",
    "    - [ ]  Применено несколько способов борьбы с дисбалансом\n",
    "    - [ ]  Написаны выводы по результатам исследования\n",
    "- [ ]  Выполнен шаг 4: проведено тестирование\n",
    "- [ ]  Удалось достичь *F1*-меры не менее 0.59\n",
    "- [ ]  Исследована метрика *AUC-ROC*"
   ]
  },
  {
   "cell_type": "code",
   "execution_count": null,
   "metadata": {},
   "outputs": [],
   "source": []
  }
 ],
 "metadata": {
  "kernelspec": {
   "display_name": "Python 3 (ipykernel)",
   "language": "python",
   "name": "python3"
  },
  "language_info": {
   "codemirror_mode": {
    "name": "ipython",
    "version": 3
   },
   "file_extension": ".py",
   "mimetype": "text/x-python",
   "name": "python",
   "nbconvert_exporter": "python",
   "pygments_lexer": "ipython3",
   "version": "3.9.12"
  },
  "toc": {
   "base_numbering": 1,
   "nav_menu": {},
   "number_sections": true,
   "sideBar": true,
   "skip_h1_title": true,
   "title_cell": "Содержание",
   "title_sidebar": "Contents",
   "toc_cell": true,
   "toc_position": {},
   "toc_section_display": true,
   "toc_window_display": true
  }
 },
 "nbformat": 4,
 "nbformat_minor": 2
}
