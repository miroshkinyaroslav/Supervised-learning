{
 "cells": [
  {
   "cell_type": "markdown",
   "metadata": {},
   "source": [
    "<div style=\"border:solid Chocolate 2px; padding: 40px\">\n",
    " \n",
    "<b> Ярослав, привет!👋</b> \n",
    "\n",
    "Меня зовут Кирилл Васильев, я буду ревьюером твоего проекта. Я предлагаю общаться на «ты», но если привычнее на «вы», просто скажи об этом! \n",
    "\n",
    "Я буду оставлять комментарии в твоем проекте. Пожалуйста, не удаляй их, они могут быть полезны в случае повторной проверки.\n",
    "\n",
    "Ты можешь реагировать на комментарии как просто написав их в Markdown-ячейках, так и выделив их цветом. Например, <font color='blue'>синим</font>. Второй способ, на мой взгляд, удобнее.\n",
    "\n",
    "Свои комментарии я буду обозначать <font color='green'>зеленым</font>, <font color='gold'>желтым</font> и <font color='red'>красным</font> цветами, например:\n",
    " \n",
    "<br/>\n",
    "\n",
    "<div class=\"alert alert-success\">\n",
    "<h2> Комментарий ревьюера <a class=\"tocSkip\"> </h2>\n",
    "\n",
    "<b>Все отлично!👍:</b> В случае, если решение на отдельном шаге является полностью правильным. Здесь же я могу давать советы и предложения.\n",
    "</div>\n",
    "\n",
    "<br/>\n",
    "\n",
    "<div class=\"alert alert-warning\">\n",
    "    <h2> Комментарий ревьюера <a class=\"tocSkip\"> </h2>\n",
    "    \n",
    "<b>Некоторые замечания и рекомендации💡:</b> В случае, когда решение на отдельном шаге станет еще лучше, если внести небольшие коррективы.\n",
    "</div>\n",
    "\n",
    "\n",
    "<br/>\n",
    "<div class=\"alert alert-block alert-danger\">\n",
    "<h2> Комментарий ревьюера <a class=\"tocSkip\"></h2>\n",
    "\n",
    "    \n",
    "<b>На доработку🤔:</b>\n",
    " В случае, когда решение на отдельном шаге требует существенной переработки и внесения правок. Напоминаю, что проект не может быть принят с первого раза, если ревью содержит комментарии, рекомендующие доработать шаги.\n",
    "</div>\n",
    "    \n",
    "Увидев у тебя неточность, в первый раз я лишь укажу на ее наличие и дам тебе возможность самому найти и исправить ее. На реальной работе твой руководитель будет поступать также. Но если ты пока не справишься с такой задачей - при следующей проверке я дам более точную подсказку! "
   ]
  },
  {
   "cell_type": "markdown",
   "metadata": {},
   "source": [
    "<div class=\"alert alert-info\", style='border: solid; border-color: red; border-width: 5px'>\n",
    "    <font size=\"4\", color = \"black\">✍Привет! Момент с Aпсемплингом пояснил, ищи комментарий в такой же красной рамочке)</font>\n",
    "    <br /> \n",
    "    <font size=\"3\", color = \"black\">\n",
    "<br /> \n",
    "        "
   ]
  },
  {
   "cell_type": "markdown",
   "metadata": {},
   "source": [
    "<div class=\"alert alert-info\">\n",
    "    <font size=\"4\", color = \"black\">✍Привет! Спасибо за ревью! Бегу смотреть и исправлять ошибки)</font>\n",
    "    <br /> \n",
    "    <font size=\"3\", color = \"black\">\n",
    "<br /> \n",
    "        "
   ]
  },
  {
   "cell_type": "markdown",
   "metadata": {},
   "source": [
    "<hr style=\"border: 2px solid blue;\">"
   ]
  },
  {
   "cell_type": "code",
   "execution_count": 1,
   "metadata": {},
   "outputs": [],
   "source": [
    "#Между двумя синими линиями будет появляться новый исправленный код"
   ]
  },
  {
   "cell_type": "markdown",
   "metadata": {},
   "source": [
    "<hr style=\"border: 2px solid blue;\">"
   ]
  },
  {
   "cell_type": "markdown",
   "metadata": {},
   "source": [
    "<div class=\"alert alert-success\">\n",
    "<h2> Комментарий ревьюера #2 <a class=\"tocSkip\"> </h2>\n",
    "\n",
    "👍 Ок, понял. Спасибо за оформление.\n",
    "</div>\n",
    " "
   ]
  },
  {
   "cell_type": "markdown",
   "metadata": {
    "toc": true
   },
   "source": [
    "<h1>Содержание<span class=\"tocSkip\"></span></h1>\n",
    "<div class=\"toc\"><ul class=\"toc-item\"><li><span><a href=\"#Цели\" data-toc-modified-id=\"Цели-1\"><span class=\"toc-item-num\">1&nbsp;&nbsp;</span>Цели</a></span></li><li><span><a href=\"#Описание-данных\" data-toc-modified-id=\"Описание-данных-2\"><span class=\"toc-item-num\">2&nbsp;&nbsp;</span>Описание данных</a></span><ul class=\"toc-item\"><li><span><a href=\"#Пропуски-в-данных\" data-toc-modified-id=\"Пропуски-в-данных-2.1\"><span class=\"toc-item-num\">2.1&nbsp;&nbsp;</span>Пропуски в данных</a></span></li><li><span><a href=\"#Кодируем-категориальные-переменные\" data-toc-modified-id=\"Кодируем-категориальные-переменные-2.2\"><span class=\"toc-item-num\">2.2&nbsp;&nbsp;</span>Кодируем категориальные переменные</a></span></li><li><span><a href=\"#Масштабиурем-признаки\" data-toc-modified-id=\"Масштабиурем-признаки-2.3\"><span class=\"toc-item-num\">2.3&nbsp;&nbsp;</span>Масштабиурем признаки</a></span></li></ul></li><li><span><a href=\"#Вывод-по-блоку-&quot;Предобработка-данных&quot;\" data-toc-modified-id=\"Вывод-по-блоку-&quot;Предобработка-данных&quot;-3\"><span class=\"toc-item-num\">3&nbsp;&nbsp;</span>Вывод по блоку \"Предобработка данных\"</a></span><ul class=\"toc-item\"><li><span><a href=\"#Исследуем-баланс-классов\" data-toc-modified-id=\"Исследуем-баланс-классов-3.1\"><span class=\"toc-item-num\">3.1&nbsp;&nbsp;</span>Исследуем баланс классов</a></span></li></ul></li><li><span><a href=\"#Изучение-модели-без-учета-дисбаланса\" data-toc-modified-id=\"Изучение-модели-без-учета-дисбаланса-4\"><span class=\"toc-item-num\">4&nbsp;&nbsp;</span>Изучение модели без учета дисбаланса</a></span></li><li><span><a href=\"#Масштабирование-признаков-(2)\" data-toc-modified-id=\"Масштабирование-признаков-(2)-5\"><span class=\"toc-item-num\">5&nbsp;&nbsp;</span>Масштабирование признаков (2)</a></span><ul class=\"toc-item\"><li><span><a href=\"#Логистическая-регрессия\" data-toc-modified-id=\"Логистическая-регрессия-5.1\"><span class=\"toc-item-num\">5.1&nbsp;&nbsp;</span>Логистическая регрессия</a></span><ul class=\"toc-item\"><li><span><a href=\"#ROC-CURVE\" data-toc-modified-id=\"ROC-CURVE-5.1.1\"><span class=\"toc-item-num\">5.1.1&nbsp;&nbsp;</span>ROC-CURVE</a></span></li></ul></li><li><span><a href=\"#Случайный-лес\" data-toc-modified-id=\"Случайный-лес-5.2\"><span class=\"toc-item-num\">5.2&nbsp;&nbsp;</span>Случайный лес</a></span></li><li><span><a href=\"#PR-Кривая-Случайный-лес\" data-toc-modified-id=\"PR-Кривая-Случайный-лес-5.3\"><span class=\"toc-item-num\">5.3&nbsp;&nbsp;</span>PR-Кривая Случайный лес</a></span></li><li><span><a href=\"#Вывод-по-блоку-&quot;Исследование-задачи&quot;\" data-toc-modified-id=\"Вывод-по-блоку-&quot;Исследование-задачи&quot;-5.4\"><span class=\"toc-item-num\">5.4&nbsp;&nbsp;</span>Вывод по блоку \"Исследование задачи\"</a></span></li></ul></li><li><span><a href=\"#Логистическая-регрессия-(дисбаланс)\" data-toc-modified-id=\"Логистическая-регрессия-(дисбаланс)-6\"><span class=\"toc-item-num\">6&nbsp;&nbsp;</span>Логистическая регрессия (дисбаланс)</a></span><ul class=\"toc-item\"><li><span><a href=\"#class_weight='balanced'\" data-toc-modified-id=\"class_weight='balanced'-6.1\"><span class=\"toc-item-num\">6.1&nbsp;&nbsp;</span>class_weight='balanced'</a></span></li><li><span><a href=\"#UpSampling\" data-toc-modified-id=\"UpSampling-6.2\"><span class=\"toc-item-num\">6.2&nbsp;&nbsp;</span>UpSampling</a></span></li><li><span><a href=\"#Случайный-лес-(дисбаланс-классов)\" data-toc-modified-id=\"Случайный-лес-(дисбаланс-классов)-6.3\"><span class=\"toc-item-num\">6.3&nbsp;&nbsp;</span>Случайный лес (дисбаланс классов)</a></span></li><li><span><a href=\"#Class_weight='balanced'\" data-toc-modified-id=\"Class_weight='balanced'-6.4\"><span class=\"toc-item-num\">6.4&nbsp;&nbsp;</span>Class_weight='balanced'</a></span></li></ul></li><li><span><a href=\"#Cлучайный-лес-UpSampling\" data-toc-modified-id=\"Cлучайный-лес-UpSampling-7\"><span class=\"toc-item-num\">7&nbsp;&nbsp;</span>Cлучайный лес UpSampling</a></span><ul class=\"toc-item\"><li><span><a href=\"#Вывод-по-блоку:-Дисбаланс\" data-toc-modified-id=\"Вывод-по-блоку:-Дисбаланс-7.1\"><span class=\"toc-item-num\">7.1&nbsp;&nbsp;</span>Вывод по блоку: Дисбаланс</a></span></li></ul></li><li><span><a href=\"#Тестирование-модели\" data-toc-modified-id=\"Тестирование-модели-8\"><span class=\"toc-item-num\">8&nbsp;&nbsp;</span>Тестирование модели</a></span><ul class=\"toc-item\"><li><span><a href=\"#Случайный-лес-(тестирование)\" data-toc-modified-id=\"Случайный-лес-(тестирование)-8.1\"><span class=\"toc-item-num\">8.1&nbsp;&nbsp;</span>Случайный лес (тестирование)</a></span></li></ul></li><li><span><a href=\"#Чек-лист-готовности-проекта\" data-toc-modified-id=\"Чек-лист-готовности-проекта-9\"><span class=\"toc-item-num\">9&nbsp;&nbsp;</span>Чек-лист готовности проекта</a></span></li></ul></div>"
   ]
  },
  {
   "cell_type": "markdown",
   "metadata": {},
   "source": [
    "# Отток клиентов"
   ]
  },
  {
   "cell_type": "markdown",
   "metadata": {},
   "source": [
    "Из «Бета-Банка» стали уходить клиенты. Каждый месяц. Немного, но заметно. Банковские маркетологи посчитали: сохранять текущих клиентов дешевле, чем привлекать новых.\n",
    "\n",
    "Нужно спрогнозировать, уйдёт клиент из банка в ближайшее время или нет. Вам предоставлены исторические данные о поведении клиентов и расторжении договоров с банком. \n",
    "\n",
    "Постройте модель с предельно большим значением *F1*-меры. Чтобы сдать проект успешно, нужно довести метрику до 0.59. Проверьте *F1*-меру на тестовой выборке самостоятельно.\n",
    "\n",
    "Дополнительно измеряйте *AUC-ROC*, сравнивайте её значение с *F1*-мерой.\n",
    "\n",
    "Источник данных: [https://www.kaggle.com/barelydedicated/bank-customer-churn-modeling](https://www.kaggle.com/barelydedicated/bank-customer-churn-modeling)"
   ]
  },
  {
   "cell_type": "markdown",
   "metadata": {},
   "source": [
    "## Цели\n",
    "Построение математической модели на основе исторический данных, для прогнозирования оттока клиентов \"Бета-Банка\".\n",
    "## Описание данных\n",
    "\n",
    "* RowNumber — индекс строки в данных\n",
    "* CustomerId — уникальный идентификатор клиента\n",
    "* Surname — фамилия\n",
    "* CreditScore — кредитный рейтинг\n",
    "* Geography — страна проживания\n",
    "* Gender — пол\n",
    "* Age — возраст\n",
    "* Tenure — сколько лет человек является клиентом банка\n",
    "* Balance — баланс на счёте\n",
    "* NumOfProducts — количество продуктов банка, используемых клиентом\n",
    "* HasCrCard — наличие кредитной карты\n",
    "* IsActiveMember — активность клиента\n",
    "* EstimatedSalary — предполагаемая зарплата\n",
    "\n",
    "* Exited — факт ухода клиента"
   ]
  },
  {
   "cell_type": "markdown",
   "metadata": {},
   "source": [
    "<hr style=\"border: 2px solid blue;\">"
   ]
  },
  {
   "cell_type": "code",
   "execution_count": 2,
   "metadata": {},
   "outputs": [],
   "source": [
    "#importing libraries\n",
    "import pandas as pd\n",
    "import os\n",
    "import numpy as np\n",
    "import seaborn as sns\n",
    "from tqdm import tqdm\n",
    "import matplotlib.pyplot as plt\n",
    "import warnings\n",
    "from sklearn.preprocessing import StandardScaler \n",
    "from sklearn.model_selection import train_test_split, GridSearchCV\n",
    "from sklearn.tree import DecisionTreeClassifier\n",
    "from sklearn.ensemble import RandomForestClassifier\n",
    "from sklearn.linear_model import LogisticRegression \n",
    "from sklearn.metrics import (\n",
    "    accuracy_score,\n",
    "    recall_score, \n",
    "    precision_score,\n",
    "    f1_score,\n",
    "    classification_report,\n",
    "    roc_curve, \n",
    "    roc_auc_score,\n",
    "    confusion_matrix, \n",
    "    ConfusionMatrixDisplay\n",
    ") \n",
    "from sklearn.utils import shuffle\n",
    "from imblearn.over_sampling import SMOTE"
   ]
  },
  {
   "cell_type": "markdown",
   "metadata": {},
   "source": [
    "<hr style=\"border: 2px solid blue;\">"
   ]
  },
  {
   "cell_type": "markdown",
   "metadata": {},
   "source": [
    "<div class=\"alert alert-warning\">\n",
    "<h2> Комментарий ревьюера <a class=\"tocSkip\"> </h2>\n",
    "    \n",
    "<b>Некоторые замечания и рекомендации💡:</b> \n",
    "    \n",
    "Если загружаем несколько функций из одного пакета, то удобнее записать это через запятую.\n",
    "    \n",
    "`from sklearn.metrics import f1_score, roc_auc_score`\n",
    "    \n",
    "А если через запятую будет больше трех позиций, в таком случае здесь было бы идеально привести оформление в соответствие с <a href=\"https://pythonworld.ru/osnovy/pep-8-rukovodstvo-po-napisaniyu-koda-na-python.html\">pep8</a> - не оставлять длинных строк. \n",
    "\n",
    "Такое оформление предпочтительнее:    \n",
    "    \n",
    "`from sklearn.metrics import (\n",
    "    accuracy_score, \n",
    "    confusion_matrix, \n",
    "    f1_score, \n",
    "    mean_squared_error, \n",
    "    roc_auc_score\n",
    ")`\n",
    "    \n",
    "        \n",
    "</div>"
   ]
  },
  {
   "cell_type": "markdown",
   "metadata": {},
   "source": [
    "<div class=\"alert alert-info\">\n",
    "    <font size=\"4\", color = \"black\">✍Поправил импорт библиотек в соответствии с pep8!</font>\n",
    "    <br /> \n",
    "    <font size=\"3\", color = \"black\">\n",
    "<br /> ... , вот мой вопрос ...\n",
    "        "
   ]
  },
  {
   "cell_type": "markdown",
   "metadata": {},
   "source": [
    "# Подготовка данных"
   ]
  },
  {
   "cell_type": "code",
   "execution_count": 3,
   "metadata": {
    "scrolled": true
   },
   "outputs": [
    {
     "name": "stdout",
     "output_type": "stream",
     "text": [
      "Датасет успешно считан\n"
     ]
    }
   ],
   "source": [
    "#open dataset\n",
    "pth1 = '/datasets/Churn.csv'\n",
    "pth2 = 'datasets/Churn.csv'\n",
    "\n",
    "if os.path.exists(pth1):\n",
    "    df = pd.read_csv(pth1)\n",
    "    print('Датасет успешно считан')\n",
    "elif os.path.exists(pth2):\n",
    "    df = pd.read_csv(pth2)\n",
    "    print('Датасет успешно считан')\n",
    "else:\n",
    "    print('Не удалось открыть файл')"
   ]
  },
  {
   "cell_type": "code",
   "execution_count": 4,
   "metadata": {
    "scrolled": false
   },
   "outputs": [
    {
     "data": {
      "text/html": [
       "<div>\n",
       "<style scoped>\n",
       "    .dataframe tbody tr th:only-of-type {\n",
       "        vertical-align: middle;\n",
       "    }\n",
       "\n",
       "    .dataframe tbody tr th {\n",
       "        vertical-align: top;\n",
       "    }\n",
       "\n",
       "    .dataframe thead th {\n",
       "        text-align: right;\n",
       "    }\n",
       "</style>\n",
       "<table border=\"1\" class=\"dataframe\">\n",
       "  <thead>\n",
       "    <tr style=\"text-align: right;\">\n",
       "      <th></th>\n",
       "      <th>RowNumber</th>\n",
       "      <th>CustomerId</th>\n",
       "      <th>Surname</th>\n",
       "      <th>CreditScore</th>\n",
       "      <th>Geography</th>\n",
       "      <th>Gender</th>\n",
       "      <th>Age</th>\n",
       "      <th>Tenure</th>\n",
       "      <th>Balance</th>\n",
       "      <th>NumOfProducts</th>\n",
       "      <th>HasCrCard</th>\n",
       "      <th>IsActiveMember</th>\n",
       "      <th>EstimatedSalary</th>\n",
       "      <th>Exited</th>\n",
       "    </tr>\n",
       "  </thead>\n",
       "  <tbody>\n",
       "    <tr>\n",
       "      <th>0</th>\n",
       "      <td>1</td>\n",
       "      <td>15634602</td>\n",
       "      <td>Hargrave</td>\n",
       "      <td>619</td>\n",
       "      <td>France</td>\n",
       "      <td>Female</td>\n",
       "      <td>42</td>\n",
       "      <td>2.0</td>\n",
       "      <td>0.00</td>\n",
       "      <td>1</td>\n",
       "      <td>1</td>\n",
       "      <td>1</td>\n",
       "      <td>101348.88</td>\n",
       "      <td>1</td>\n",
       "    </tr>\n",
       "    <tr>\n",
       "      <th>1</th>\n",
       "      <td>2</td>\n",
       "      <td>15647311</td>\n",
       "      <td>Hill</td>\n",
       "      <td>608</td>\n",
       "      <td>Spain</td>\n",
       "      <td>Female</td>\n",
       "      <td>41</td>\n",
       "      <td>1.0</td>\n",
       "      <td>83807.86</td>\n",
       "      <td>1</td>\n",
       "      <td>0</td>\n",
       "      <td>1</td>\n",
       "      <td>112542.58</td>\n",
       "      <td>0</td>\n",
       "    </tr>\n",
       "    <tr>\n",
       "      <th>2</th>\n",
       "      <td>3</td>\n",
       "      <td>15619304</td>\n",
       "      <td>Onio</td>\n",
       "      <td>502</td>\n",
       "      <td>France</td>\n",
       "      <td>Female</td>\n",
       "      <td>42</td>\n",
       "      <td>8.0</td>\n",
       "      <td>159660.80</td>\n",
       "      <td>3</td>\n",
       "      <td>1</td>\n",
       "      <td>0</td>\n",
       "      <td>113931.57</td>\n",
       "      <td>1</td>\n",
       "    </tr>\n",
       "  </tbody>\n",
       "</table>\n",
       "</div>"
      ],
      "text/plain": [
       "   RowNumber  CustomerId   Surname  CreditScore Geography  Gender  Age  \\\n",
       "0          1    15634602  Hargrave          619    France  Female   42   \n",
       "1          2    15647311      Hill          608     Spain  Female   41   \n",
       "2          3    15619304      Onio          502    France  Female   42   \n",
       "\n",
       "   Tenure    Balance  NumOfProducts  HasCrCard  IsActiveMember  \\\n",
       "0     2.0       0.00              1          1               1   \n",
       "1     1.0   83807.86              1          0               1   \n",
       "2     8.0  159660.80              3          1               0   \n",
       "\n",
       "   EstimatedSalary  Exited  \n",
       "0        101348.88       1  \n",
       "1        112542.58       0  \n",
       "2        113931.57       1  "
      ]
     },
     "metadata": {},
     "output_type": "display_data"
    },
    {
     "name": "stdout",
     "output_type": "stream",
     "text": [
      "<class 'pandas.core.frame.DataFrame'>\n",
      "RangeIndex: 10000 entries, 0 to 9999\n",
      "Data columns (total 14 columns):\n",
      " #   Column           Non-Null Count  Dtype  \n",
      "---  ------           --------------  -----  \n",
      " 0   RowNumber        10000 non-null  int64  \n",
      " 1   CustomerId       10000 non-null  int64  \n",
      " 2   Surname          10000 non-null  object \n",
      " 3   CreditScore      10000 non-null  int64  \n",
      " 4   Geography        10000 non-null  object \n",
      " 5   Gender           10000 non-null  object \n",
      " 6   Age              10000 non-null  int64  \n",
      " 7   Tenure           9091 non-null   float64\n",
      " 8   Balance          10000 non-null  float64\n",
      " 9   NumOfProducts    10000 non-null  int64  \n",
      " 10  HasCrCard        10000 non-null  int64  \n",
      " 11  IsActiveMember   10000 non-null  int64  \n",
      " 12  EstimatedSalary  10000 non-null  float64\n",
      " 13  Exited           10000 non-null  int64  \n",
      "dtypes: float64(3), int64(8), object(3)\n",
      "memory usage: 1.1+ MB\n"
     ]
    }
   ],
   "source": [
    "#first view\n",
    "display(df.head(3))\n",
    "df.info()"
   ]
  },
  {
   "cell_type": "markdown",
   "metadata": {},
   "source": [
    "### Пропуски в данных\n",
    "Проверим, есть ли пропуски в данных"
   ]
  },
  {
   "cell_type": "code",
   "execution_count": 5,
   "metadata": {},
   "outputs": [
    {
     "data": {
      "text/html": [
       "<style type=\"text/css\">\n",
       "#T_e85be_row0_col0 {\n",
       "  background-color: #023858;\n",
       "  color: #f1f1f1;\n",
       "}\n",
       "#T_e85be_row1_col0, #T_e85be_row2_col0, #T_e85be_row3_col0, #T_e85be_row4_col0, #T_e85be_row5_col0, #T_e85be_row6_col0, #T_e85be_row7_col0, #T_e85be_row8_col0, #T_e85be_row9_col0, #T_e85be_row10_col0, #T_e85be_row11_col0, #T_e85be_row12_col0, #T_e85be_row13_col0 {\n",
       "  background-color: #fff7fb;\n",
       "  color: #000000;\n",
       "}\n",
       "</style>\n",
       "<table id=\"T_e85be\">\n",
       "  <thead>\n",
       "    <tr>\n",
       "      <th class=\"blank level0\" >&nbsp;</th>\n",
       "      <th id=\"T_e85be_level0_col0\" class=\"col_heading level0 col0\" >spaces</th>\n",
       "    </tr>\n",
       "  </thead>\n",
       "  <tbody>\n",
       "    <tr>\n",
       "      <th id=\"T_e85be_level0_row0\" class=\"row_heading level0 row0\" >Tenure</th>\n",
       "      <td id=\"T_e85be_row0_col0\" class=\"data row0 col0\" >909</td>\n",
       "    </tr>\n",
       "    <tr>\n",
       "      <th id=\"T_e85be_level0_row1\" class=\"row_heading level0 row1\" >RowNumber</th>\n",
       "      <td id=\"T_e85be_row1_col0\" class=\"data row1 col0\" >0</td>\n",
       "    </tr>\n",
       "    <tr>\n",
       "      <th id=\"T_e85be_level0_row2\" class=\"row_heading level0 row2\" >CustomerId</th>\n",
       "      <td id=\"T_e85be_row2_col0\" class=\"data row2 col0\" >0</td>\n",
       "    </tr>\n",
       "    <tr>\n",
       "      <th id=\"T_e85be_level0_row3\" class=\"row_heading level0 row3\" >Surname</th>\n",
       "      <td id=\"T_e85be_row3_col0\" class=\"data row3 col0\" >0</td>\n",
       "    </tr>\n",
       "    <tr>\n",
       "      <th id=\"T_e85be_level0_row4\" class=\"row_heading level0 row4\" >CreditScore</th>\n",
       "      <td id=\"T_e85be_row4_col0\" class=\"data row4 col0\" >0</td>\n",
       "    </tr>\n",
       "    <tr>\n",
       "      <th id=\"T_e85be_level0_row5\" class=\"row_heading level0 row5\" >Geography</th>\n",
       "      <td id=\"T_e85be_row5_col0\" class=\"data row5 col0\" >0</td>\n",
       "    </tr>\n",
       "    <tr>\n",
       "      <th id=\"T_e85be_level0_row6\" class=\"row_heading level0 row6\" >Gender</th>\n",
       "      <td id=\"T_e85be_row6_col0\" class=\"data row6 col0\" >0</td>\n",
       "    </tr>\n",
       "    <tr>\n",
       "      <th id=\"T_e85be_level0_row7\" class=\"row_heading level0 row7\" >Age</th>\n",
       "      <td id=\"T_e85be_row7_col0\" class=\"data row7 col0\" >0</td>\n",
       "    </tr>\n",
       "    <tr>\n",
       "      <th id=\"T_e85be_level0_row8\" class=\"row_heading level0 row8\" >Balance</th>\n",
       "      <td id=\"T_e85be_row8_col0\" class=\"data row8 col0\" >0</td>\n",
       "    </tr>\n",
       "    <tr>\n",
       "      <th id=\"T_e85be_level0_row9\" class=\"row_heading level0 row9\" >NumOfProducts</th>\n",
       "      <td id=\"T_e85be_row9_col0\" class=\"data row9 col0\" >0</td>\n",
       "    </tr>\n",
       "    <tr>\n",
       "      <th id=\"T_e85be_level0_row10\" class=\"row_heading level0 row10\" >HasCrCard</th>\n",
       "      <td id=\"T_e85be_row10_col0\" class=\"data row10 col0\" >0</td>\n",
       "    </tr>\n",
       "    <tr>\n",
       "      <th id=\"T_e85be_level0_row11\" class=\"row_heading level0 row11\" >IsActiveMember</th>\n",
       "      <td id=\"T_e85be_row11_col0\" class=\"data row11 col0\" >0</td>\n",
       "    </tr>\n",
       "    <tr>\n",
       "      <th id=\"T_e85be_level0_row12\" class=\"row_heading level0 row12\" >EstimatedSalary</th>\n",
       "      <td id=\"T_e85be_row12_col0\" class=\"data row12 col0\" >0</td>\n",
       "    </tr>\n",
       "    <tr>\n",
       "      <th id=\"T_e85be_level0_row13\" class=\"row_heading level0 row13\" >Exited</th>\n",
       "      <td id=\"T_e85be_row13_col0\" class=\"data row13 col0\" >0</td>\n",
       "    </tr>\n",
       "  </tbody>\n",
       "</table>\n"
      ],
      "text/plain": [
       "<pandas.io.formats.style.Styler at 0x20eda1c4cd0>"
      ]
     },
     "execution_count": 5,
     "metadata": {},
     "output_type": "execute_result"
    }
   ],
   "source": [
    "pd.DataFrame(df.isna().sum().sort_values(ascending=False)).rename(columns={0: 'spaces'})\\\n",
    ".style.background_gradient('PuBu')"
   ]
  },
  {
   "cell_type": "markdown",
   "metadata": {},
   "source": [
    "Данные почти без пропусков. Пропуски обнаружены только в столбце Tenure и составляют менее 10% от данных. Скорее всего это новые клиенты банка. Присвоим значениям на месте пропусков 0.  И приведем к типу int"
   ]
  },
  {
   "cell_type": "markdown",
   "metadata": {},
   "source": [
    "<div class=\"alert alert-block alert-danger\">\n",
    "<h2><s> Комментарий ревьюера <a class=\"tocSkip\"></h2>\n",
    "  \n",
    "<b>На доработку🤔:</b>\n",
    " \n",
    "Предположение, что пропуски там, где клиент пришел недавно достаточно неплохое. Но подтвердить его сейчас мы не можем. Поэтому лучше следовать принципу, что следующие данные будут такими же по распределению, как текущие, и лучшей тактикой минимизации ошибки будет значение из области наибольшей плотности распределения, не изменяющую структуры распределения признака. \n",
    "    \n",
    "Доля пропусков не критично велика, возможно и решение с удалением. Однако данных у нас не много, я бы остановился на чем-то вроде медианы.\n",
    "\n",
    "</div>\n"
   ]
  },
  {
   "cell_type": "markdown",
   "metadata": {},
   "source": [
    "<hr style=\"border: 2px solid blue;\">"
   ]
  },
  {
   "cell_type": "code",
   "execution_count": 6,
   "metadata": {
    "scrolled": true
   },
   "outputs": [
    {
     "data": {
      "image/png": "[encoded data removed]",
      "text/plain": [
       "<Figure size 432x288 with 1 Axes>"
      ]
     },
     "metadata": {
      "needs_background": "light"
     },
     "output_type": "display_data"
    }
   ],
   "source": [
    "df.Tenure.value_counts().sort_index().plot(kind='bar', rot=0, xlabel='Количество лет', ylabel='Количество человек');"
   ]
  },
  {
   "cell_type": "markdown",
   "metadata": {},
   "source": [
    "<div class=\"alert alert-info\">\n",
    "    <font size=\"4\", color = \"black\">✍Пропуски больная тема) Обдумывая как с ними поступить я учитывал несколько моментов. Один из ревьюеров проектов сказал, что во время предобработки данных оптимальным считается удаление порядка 5 процентов датасета. А критичным уже 10 процентов. В нашем случае пропуски только в одном столбце и занимают 9 процентов от объема данных. От удаления я отказался. \n",
    "<br><br>\n",
    "Больше всего меня волновал вопрос - <b>Будут ли работать модели, если я оставлю Nan в столбце Tenure? Может быть некоторые модели способны работать с пропусками, а некоторые нет? Подскажи, пожалуйста, с этим моментом</b>\n",
    "\n",
    "По итогу сомневался между заполнением медианой и нулем, всегда мучаюсь с этим моментом, ведь в любом случае данные получаются синтетические. \n",
    "1. Заполнение медианой не нарушает распределение данных в датасете, это ее преимущество\n",
    "2. Заполнение нулями я выбрал, после построения столбчатой диаграммы (см. выше). Распределение равномерное по годам, сильные отличия только в 10 и 0 лет. Поэтому решил, что некоторые \"0\" не учтены. \n",
    "    </font>\n",
    "    <br /> \n",
    "\n",
    "        "
   ]
  },
  {
   "cell_type": "markdown",
   "metadata": {},
   "source": [
    "<div class=\"alert alert-success\">\n",
    "<h2> Комментарий ревьюера #2 <a class=\"tocSkip\"> </h2>\n",
    "\n",
    "👍 По nan - если брать чистые алгоритмы типа рукописной регрессии, то nan, если не ошибаюсь, будет эквивалентен бесконечности, веса, соответственно, не подберутся, сходимости не произойдет. Также, если не ошибаюсь, во многих пакетах автоматически реализован функционал, позволяющий не падать моделям, если они встречают пропуски.\n",
    " \n",
    "Однако на то и человек нужен «черному ящику», чтобы осознанно подходить к заполнению пропусков в зависимости от контекста задачи.\n",
    "    \n",
    "По тому, сколько данных дропнуть критично: как правило, верхнюю границу определяют в 10%. \n",
    "    \n",
    "По нашей задаче вполне можно заменить медианой − объяснил выше, почему. Знаю, некоторые наставники рекомендуют заполнять случайными значениями из нашего распределения (чтобы не искажать плотность распределения на гистограмме). Тоже вполне применимо и неплохо работает.\n",
    "</div>\n",
    " "
   ]
  },
  {
   "cell_type": "code",
   "execution_count": 7,
   "metadata": {},
   "outputs": [],
   "source": [
    "df.loc[df.Tenure.isna(), 'Tenure'] = df.Tenure.median()\n",
    "df.Tenure = df.Tenure.astype('int')"
   ]
  },
  {
   "cell_type": "code",
   "execution_count": 8,
   "metadata": {},
   "outputs": [
    {
     "data": {
      "text/html": [
       "<style type=\"text/css\">\n",
       "#T_21a25_row0_col0, #T_21a25_row1_col0, #T_21a25_row2_col0, #T_21a25_row3_col0, #T_21a25_row4_col0, #T_21a25_row5_col0, #T_21a25_row6_col0, #T_21a25_row7_col0, #T_21a25_row8_col0, #T_21a25_row9_col0, #T_21a25_row10_col0, #T_21a25_row11_col0, #T_21a25_row12_col0, #T_21a25_row13_col0 {\n",
       "  background-color: #fff7fb;\n",
       "  color: #000000;\n",
       "}\n",
       "</style>\n",
       "<table id=\"T_21a25\">\n",
       "  <thead>\n",
       "    <tr>\n",
       "      <th class=\"blank level0\" >&nbsp;</th>\n",
       "      <th id=\"T_21a25_level0_col0\" class=\"col_heading level0 col0\" >spaces</th>\n",
       "    </tr>\n",
       "  </thead>\n",
       "  <tbody>\n",
       "    <tr>\n",
       "      <th id=\"T_21a25_level0_row0\" class=\"row_heading level0 row0\" >RowNumber</th>\n",
       "      <td id=\"T_21a25_row0_col0\" class=\"data row0 col0\" >0</td>\n",
       "    </tr>\n",
       "    <tr>\n",
       "      <th id=\"T_21a25_level0_row1\" class=\"row_heading level0 row1\" >CustomerId</th>\n",
       "      <td id=\"T_21a25_row1_col0\" class=\"data row1 col0\" >0</td>\n",
       "    </tr>\n",
       "    <tr>\n",
       "      <th id=\"T_21a25_level0_row2\" class=\"row_heading level0 row2\" >Surname</th>\n",
       "      <td id=\"T_21a25_row2_col0\" class=\"data row2 col0\" >0</td>\n",
       "    </tr>\n",
       "    <tr>\n",
       "      <th id=\"T_21a25_level0_row3\" class=\"row_heading level0 row3\" >CreditScore</th>\n",
       "      <td id=\"T_21a25_row3_col0\" class=\"data row3 col0\" >0</td>\n",
       "    </tr>\n",
       "    <tr>\n",
       "      <th id=\"T_21a25_level0_row4\" class=\"row_heading level0 row4\" >Geography</th>\n",
       "      <td id=\"T_21a25_row4_col0\" class=\"data row4 col0\" >0</td>\n",
       "    </tr>\n",
       "    <tr>\n",
       "      <th id=\"T_21a25_level0_row5\" class=\"row_heading level0 row5\" >Gender</th>\n",
       "      <td id=\"T_21a25_row5_col0\" class=\"data row5 col0\" >0</td>\n",
       "    </tr>\n",
       "    <tr>\n",
       "      <th id=\"T_21a25_level0_row6\" class=\"row_heading level0 row6\" >Age</th>\n",
       "      <td id=\"T_21a25_row6_col0\" class=\"data row6 col0\" >0</td>\n",
       "    </tr>\n",
       "    <tr>\n",
       "      <th id=\"T_21a25_level0_row7\" class=\"row_heading level0 row7\" >Tenure</th>\n",
       "      <td id=\"T_21a25_row7_col0\" class=\"data row7 col0\" >0</td>\n",
       "    </tr>\n",
       "    <tr>\n",
       "      <th id=\"T_21a25_level0_row8\" class=\"row_heading level0 row8\" >Balance</th>\n",
       "      <td id=\"T_21a25_row8_col0\" class=\"data row8 col0\" >0</td>\n",
       "    </tr>\n",
       "    <tr>\n",
       "      <th id=\"T_21a25_level0_row9\" class=\"row_heading level0 row9\" >NumOfProducts</th>\n",
       "      <td id=\"T_21a25_row9_col0\" class=\"data row9 col0\" >0</td>\n",
       "    </tr>\n",
       "    <tr>\n",
       "      <th id=\"T_21a25_level0_row10\" class=\"row_heading level0 row10\" >HasCrCard</th>\n",
       "      <td id=\"T_21a25_row10_col0\" class=\"data row10 col0\" >0</td>\n",
       "    </tr>\n",
       "    <tr>\n",
       "      <th id=\"T_21a25_level0_row11\" class=\"row_heading level0 row11\" >IsActiveMember</th>\n",
       "      <td id=\"T_21a25_row11_col0\" class=\"data row11 col0\" >0</td>\n",
       "    </tr>\n",
       "    <tr>\n",
       "      <th id=\"T_21a25_level0_row12\" class=\"row_heading level0 row12\" >EstimatedSalary</th>\n",
       "      <td id=\"T_21a25_row12_col0\" class=\"data row12 col0\" >0</td>\n",
       "    </tr>\n",
       "    <tr>\n",
       "      <th id=\"T_21a25_level0_row13\" class=\"row_heading level0 row13\" >Exited</th>\n",
       "      <td id=\"T_21a25_row13_col0\" class=\"data row13 col0\" >0</td>\n",
       "    </tr>\n",
       "  </tbody>\n",
       "</table>\n"
      ],
      "text/plain": [
       "<pandas.io.formats.style.Styler at 0x20ed46e70d0>"
      ]
     },
     "execution_count": 8,
     "metadata": {},
     "output_type": "execute_result"
    }
   ],
   "source": [
    "pd.DataFrame(df.isna().sum().sort_values(ascending=False)).rename(columns={0: 'spaces'})\\\n",
    ".style.background_gradient('PuBu')"
   ]
  },
  {
   "cell_type": "markdown",
   "metadata": {},
   "source": [
    "<div class=\"alert alert-info\">\n",
    "    <font size=\"4\", color = \"black\">✍Пропусков в модели больше нет!</font>\n",
    "    <br /> \n",
    "    <font size=\"3\", color = \"black\">\n",
    "<br />\n",
    "        "
   ]
  },
  {
   "cell_type": "markdown",
   "metadata": {},
   "source": [
    "<hr style=\"border: 2px solid blue;\">"
   ]
  },
  {
   "cell_type": "markdown",
   "metadata": {},
   "source": [
    "Для построения модели нам будут интересны не все столбцы.\n",
    "* RowNumber — индекс строки в данных\n",
    "* CustomerId — уникальный идентификатор клиента\n",
    "* Surname — фамилия\n",
    "\n",
    "Не должны повлиять на возможность оттока клиентов из банка, далее будем работать с датасетом без этих признаков"
   ]
  },
  {
   "cell_type": "code",
   "execution_count": 9,
   "metadata": {
    "scrolled": true
   },
   "outputs": [],
   "source": [
    "df = df.drop(['RowNumber', 'CustomerId', 'Surname'], axis=1)"
   ]
  },
  {
   "cell_type": "markdown",
   "metadata": {},
   "source": [
    "<div class=\"alert alert-success\">\n",
    "<h2> Комментарий ревьюера <a class=\"tocSkip\"> </h2>\n",
    "\n",
    "👍 Всё верно\n",
    "</div>"
   ]
  },
  {
   "cell_type": "markdown",
   "metadata": {},
   "source": [
    "### Кодируем категориальные переменные\n",
    "Кодируем категориальные переменные Geography и Gender с помощью техники OHE"
   ]
  },
  {
   "cell_type": "code",
   "execution_count": 10,
   "metadata": {
    "scrolled": false
   },
   "outputs": [],
   "source": [
    "df = pd.get_dummies(df, drop_first=True);"
   ]
  },
  {
   "cell_type": "markdown",
   "metadata": {},
   "source": [
    "<div class=\"alert alert-success\">\n",
    "<h2> Комментарий ревьюера <a class=\"tocSkip\"> </h2>\n",
    "\n",
    "👍 Согласен. В дамми-ловушку не попались.\n",
    "</div>\n"
   ]
  },
  {
   "cell_type": "markdown",
   "metadata": {},
   "source": [
    "### Масштабиурем признаки\n",
    "Масштабируем признаки - стандартизуя данные. Создадим список numeric с численными признаками"
   ]
  },
  {
   "cell_type": "markdown",
   "metadata": {},
   "source": [
    "<div class=\"alert alert-block alert-danger\">\n",
    "<h2><s> Комментарий ревьюера <a class=\"tocSkip\"></h2>\n",
    "  \n",
    "<b>На доработку🤔:</b>\n",
    " \n",
    "Масштабирование необходимо сделать после разбиения на выборки: учимся на трейне, применяем масштабирование ко всем трем.\n",
    "\n",
    "</div>"
   ]
  },
  {
   "cell_type": "markdown",
   "metadata": {},
   "source": [
    "<div class=\"alert alert-info\">\n",
    "    <font size=\"4\", color = \"black\">✍Убрал код с масштабированием признаков.</font>\n",
    "    <br /> \n",
    "    <font size=\"3\", color = \"black\">\n",
    "<br />\n",
    "        Вопрос 1. <b>Точно нужно масштабировать вещественные числа. Но нужно ли масштабировать признаки с бинарными значениями 0 или 1. Например Мужчина - 0, Женщина - 1</b><br>\n",
    "        Вопрос 2.<b> Даст ли какое то преимущество масштабирование признаков модели случайного леса? (Мне кажется нет) \n",
    "        А логистической регрессии?</b>\n",
    "        "
   ]
  },
  {
   "cell_type": "markdown",
   "metadata": {},
   "source": [
    "<div class=\"alert alert-success\">\n",
    "<h2> Комментарий ревьюера #2 <a class=\"tocSkip\"> </h2>\n",
    "\n",
    "👍 Ну это прямо вопрос из теории. Можно почитать поподробнее и здесь тоже: https://machinelearningmastery.ru/scale-standardize-or-normalize-with-scikit-learn-6ccc7d176a02/ \n",
    "    \n",
    "История опять же в том, как алгоритмы считают и учатся. Если мы подбираем каждому признаку вес, то должны инициализировать веса примерно равными, а потом двигать их в разные стороны, чтобы достичь локального минимума ошибки. Так вот, если у нас в одном столбце будут единицы, а в другом − миллиарды, то начинать мы будем с одного и того же веса и при корректировке градиента веса будут скакать неистово. В лучшем случае обучение займет долгое время, в худшем, «маятник» значений улетит до бесконечностей и модель на этом зависнет. \n",
    "    \n",
    "Кстати, кажется, про это лучше и доступнее всего (и с кодом) написано в книге «Грокаем машинное обучение». Если еще не читал, то советую. Первые 4-5 глав супер полезные в плане понимания происходящего и без излишне формальной математики.\n",
    "    \n",
    "С лесами масштабирование не нужно, там другая история. Кажется, тоже хорошо описано в тренажере, но можно почитать и в хабровской лекции курса ОДС https://habr.com/ru/company/ods/blog/322534/.\n",
    "</div>\n",
    " "
   ]
  },
  {
   "cell_type": "markdown",
   "metadata": {},
   "source": [
    "<div class=\"alert alert-block alert-danger\">\n",
    "<h2> Комментарий ревьюера <a class=\"tocSkip\"></h2>\n",
    "  \n",
    "<b>На доработку🤔:</b>\n",
    " \n",
    "Здесь важно оставить небольшой промежуточный вывод по предобработке.\n",
    "\n",
    "</div>\n"
   ]
  },
  {
   "cell_type": "markdown",
   "metadata": {},
   "source": [
    "<div class=\"alert alert-info\">\n",
    "    <font size=\"4\", color = \"black\">✍Вывод ниже</font>\n",
    "    <br /> \n",
    "    <font size=\"3\", color = \"black\">\n",
    "<br /> \n",
    "        "
   ]
  },
  {
   "cell_type": "markdown",
   "metadata": {},
   "source": [
    "## Вывод по блоку \"Предобработка данных\"\n",
    "1. В исходном датасете обнаружены пропуски в столбце Tenure в количестве 9% от общего количества строк датасета. Для сохранения распределения данных - пропуски в Tenure заполнены мединанным значением по данному столбцу. \n",
    "2. В остальных столбцах пропусков не обнаружено.\n",
    "3. Для построения модели нам будут интересны не все столбцы. Не должны повлиять на возможность оттока клиентов из банка. \n",
    "* RowNumber — индекс строки в данных\n",
    "* CustomerId — уникальный идентификатор клиента\n",
    "* Surname — фамилия\n",
    "  <p> <b> Данные признаки удалены из датасета"
   ]
  },
  {
   "cell_type": "markdown",
   "metadata": {},
   "source": [
    "# Исследование задачи"
   ]
  },
  {
   "cell_type": "markdown",
   "metadata": {},
   "source": [
    "### Исследуем баланс классов"
   ]
  },
  {
   "cell_type": "code",
   "execution_count": 11,
   "metadata": {},
   "outputs": [
    {
     "data": {
      "image/png": "[encoded data removed]",
      "text/plain": [
       "<Figure size 720x504 with 1 Axes>"
      ]
     },
     "metadata": {
      "needs_background": "light"
     },
     "output_type": "display_data"
    }
   ],
   "source": [
    "df.Exited.value_counts(normalize=True)\\\n",
    ".plot(kind='bar', rot=0, figsize=(10,7), grid=True, alpha=0.9, title='Баланс классов целевой переменной (уход клиента)');"
   ]
  },
  {
   "cell_type": "markdown",
   "metadata": {},
   "source": [
    "Данные не сбалансированы, клиенты чаще остаются в банке, чем уходят. Соотношение классов примерно 4 к 1. Тем не менее, класс \"1\" представляет для нас больший интерес, так как мы хотим прогнозировать именно его"
   ]
  },
  {
   "cell_type": "markdown",
   "metadata": {},
   "source": [
    "<div class=\"alert alert-success\">\n",
    "<h2> Комментарий ревьюера <a class=\"tocSkip\"> </h2>\n",
    "\n",
    "👍 Дисбаланс исследовали. Да, он достаточно сильный, чтобы негативно повлиять на качество моделей.\n",
    "</div>\n",
    "\n"
   ]
  },
  {
   "cell_type": "markdown",
   "metadata": {},
   "source": [
    "## Изучение модели без учета дисбаланса"
   ]
  },
  {
   "cell_type": "markdown",
   "metadata": {},
   "source": [
    "Создадим функцию для построения PR кривой"
   ]
  },
  {
   "cell_type": "code",
   "execution_count": 12,
   "metadata": {
    "scrolled": false
   },
   "outputs": [],
   "source": [
    "def pr_f1(recall, precision, dot_size=3, alpha=1):\n",
    "    fig, ax = plt.subplots(1,1, figsize=(12,7))\n",
    "    x, y = np.meshgrid(np.linspace(0,1, 1000), np.linspace(0, 1, 1000))\n",
    "    f1 = 2*x*y / (x+y)\n",
    "    plt.contourf(x,y,f1, levels=20)\n",
    "    plt.colorbar()\n",
    "    ax.set_xlabel('Recall', fontsize=16)\n",
    "    ax.set_ylabel('Precision', fontsize=16)\n",
    "    ax.set_title('F1-Мера\\n', fontsize=16)\n",
    "    f1_min = 0.59\n",
    "    x_1 = np.linspace(0.42,1,100)\n",
    "    y_1 = -f1_min * x_1 / (f1_min - 2*x_1)\n",
    "    ax.plot(x_1, y_1, c='black', linewidth=3, linestyle='solid', label='Пороговое значение F1-Меры: 0.59')\n",
    "    ax.scatter(recall, precision, c='r', linewidth=dot_size, alpha=alpha,\\\n",
    "               label='(reccall, precision) при переборе гиперпараметров модели')\n",
    "    ax.legend()\n",
    "    \n",
    "    \n",
    "    \n",
    "\n"
   ]
  },
  {
   "cell_type": "markdown",
   "metadata": {},
   "source": [
    "Разобьем данные на тренировочную, валидационную и тестовую выборку. Используем stratify для сохранения пропорций классов"
   ]
  },
  {
   "cell_type": "code",
   "execution_count": 13,
   "metadata": {},
   "outputs": [],
   "source": [
    "features = df.drop('Exited', axis=1)\n",
    "target = df.Exited"
   ]
  },
  {
   "cell_type": "code",
   "execution_count": 14,
   "metadata": {},
   "outputs": [],
   "source": [
    "features_train, features_valid_test, target_train, target_valid_test = train_test_split(\n",
    "    features, target, test_size = 0.4, random_state = 42, stratify=target)\n",
    "features_valid, features_test, target_valid, target_test = train_test_split(\n",
    "    features_valid_test, target_valid_test, test_size = 0.5, random_state = 42, stratify=target_valid_test)"
   ]
  },
  {
   "cell_type": "markdown",
   "metadata": {},
   "source": [
    "<div class=\"alert alert-success\">\n",
    "<h2> Комментарий ревьюера <a class=\"tocSkip\"> </h2>\n",
    "\n",
    "👍 С разбиением на выборки согласен, однако, в идеале хорошо бы здесь вывести размерность получившихся выборок.\n",
    "    \n",
    "</div>"
   ]
  },
  {
   "cell_type": "markdown",
   "metadata": {},
   "source": [
    "<hr style=\"border: 2px solid blue;\">"
   ]
  },
  {
   "cell_type": "code",
   "execution_count": 15,
   "metadata": {},
   "outputs": [
    {
     "data": {
      "text/html": [
       "<div>\n",
       "<style scoped>\n",
       "    .dataframe tbody tr th:only-of-type {\n",
       "        vertical-align: middle;\n",
       "    }\n",
       "\n",
       "    .dataframe tbody tr th {\n",
       "        vertical-align: top;\n",
       "    }\n",
       "\n",
       "    .dataframe thead th {\n",
       "        text-align: right;\n",
       "    }\n",
       "</style>\n",
       "<table border=\"1\" class=\"dataframe\">\n",
       "  <thead>\n",
       "    <tr style=\"text-align: right;\">\n",
       "      <th></th>\n",
       "      <th>num_of_rows</th>\n",
       "      <th>num_of_columns</th>\n",
       "    </tr>\n",
       "  </thead>\n",
       "  <tbody>\n",
       "    <tr>\n",
       "      <th>features_train</th>\n",
       "      <td>6000</td>\n",
       "      <td>11.0</td>\n",
       "    </tr>\n",
       "    <tr>\n",
       "      <th>features_valid</th>\n",
       "      <td>2000</td>\n",
       "      <td>11.0</td>\n",
       "    </tr>\n",
       "    <tr>\n",
       "      <th>features_test</th>\n",
       "      <td>2000</td>\n",
       "      <td>11.0</td>\n",
       "    </tr>\n",
       "    <tr>\n",
       "      <th>target_train</th>\n",
       "      <td>6000</td>\n",
       "      <td>1.0</td>\n",
       "    </tr>\n",
       "    <tr>\n",
       "      <th>target_valid</th>\n",
       "      <td>2000</td>\n",
       "      <td>1.0</td>\n",
       "    </tr>\n",
       "    <tr>\n",
       "      <th>target_test</th>\n",
       "      <td>2000</td>\n",
       "      <td>1.0</td>\n",
       "    </tr>\n",
       "  </tbody>\n",
       "</table>\n",
       "</div>"
      ],
      "text/plain": [
       "                num_of_rows  num_of_columns\n",
       "features_train         6000            11.0\n",
       "features_valid         2000            11.0\n",
       "features_test          2000            11.0\n",
       "target_train           6000             1.0\n",
       "target_valid           2000             1.0\n",
       "target_test            2000             1.0"
      ]
     },
     "execution_count": 15,
     "metadata": {},
     "output_type": "execute_result"
    }
   ],
   "source": [
    "pd.DataFrame([features_train.shape, features_valid.shape, features_test.shape, \n",
    "              target_train.shape, target_valid.shape, target_test.shape], \n",
    "             \n",
    "             index=['features_train', 'features_valid', 'features_test', \n",
    "                    'target_train', 'target_valid', 'target_test'],\n",
    "             \n",
    "             columns=['num_of_rows', 'num_of_columns']).fillna(1)"
   ]
  },
  {
   "cell_type": "markdown",
   "metadata": {},
   "source": [
    "<hr style=\"border: 2px solid blue;\">"
   ]
  },
  {
   "cell_type": "markdown",
   "metadata": {},
   "source": [
    "<div class=\"alert alert-warning\">\n",
    "<h2> Комментарий ревьюера <a class=\"tocSkip\"> </h2>\n",
    "    \n",
    "<b>Некоторые замечания и рекомендации💡:</b> \n",
    "\n",
    "Здесь можно дать краткий комментарий по плану исследования: какие модели будем изучать, какие метрики измерять.\n",
    "       \n",
    "</div>"
   ]
  },
  {
   "cell_type": "markdown",
   "metadata": {},
   "source": [
    "<div class=\"alert alert-info\">\n",
    "    <font size=\"4\", color = \"black\">✍В рамках исследования предлагаю изучать следующие модели: <br>\n",
    "    1. Логистическая регрессия<br>\n",
    "    2. Случайный лес<br>\n",
    "   В качестве метрик для изучения предлагаю использовать:\n",
    "        1. f1-мера - ключевая метрика, максимизация которой основная часть работы <br>\n",
    "        2. recall - увеличение данной метрики также является очень важным этапом в работе. Для банка гораздо важнее найти побольше людей собирающихся уйти, чем делать это с высокой точностью.<br>\n",
    "        3. precision - точность работы модели.<br>\n",
    "    <font size=\"3\", color = \"black\">\n",
    "<br /> \n",
    "        "
   ]
  },
  {
   "cell_type": "markdown",
   "metadata": {},
   "source": [
    "<hr style=\"border: 2px solid blue;\">"
   ]
  },
  {
   "cell_type": "markdown",
   "metadata": {},
   "source": [
    "## Масштабирование признаков (2)"
   ]
  },
  {
   "cell_type": "code",
   "execution_count": 16,
   "metadata": {
    "scrolled": true
   },
   "outputs": [],
   "source": [
    "numeric = ['CreditScore', 'Age', 'Tenure', 'Balance', \n",
    "         'NumOfProducts', 'HasCrCard', 'IsActiveMember', 'EstimatedSalary', 'Geography_Germany', 'Geography_Spain', \n",
    "          'Gender_Male']\n",
    "       \n",
    "scaler = StandardScaler()\n",
    "scaler.fit(features_train[numeric])\n",
    "features_train[numeric] = scaler.transform(features_train[numeric])\n",
    "features_valid[numeric] = scaler.transform(features_valid[numeric])\n",
    "features_test[numeric] = scaler.transform(features_test[numeric])"
   ]
  },
  {
   "cell_type": "markdown",
   "metadata": {},
   "source": [
    "<hr style=\"border: 2px solid blue;\">"
   ]
  },
  {
   "cell_type": "markdown",
   "metadata": {},
   "source": [
    "### Логистическая регрессия"
   ]
  },
  {
   "cell_type": "code",
   "execution_count": 17,
   "metadata": {},
   "outputs": [
    {
     "name": "stderr",
     "output_type": "stream",
     "text": [
      "100%|████████████████████████████████████████████████████████████████████████████████████| 6/6 [00:00<00:00, 72.55it/s]"
     ]
    },
    {
     "name": "stdout",
     "output_type": "stream",
     "text": [
      "F1-Мера: 0.32792792792792796\n",
      "Лучший алгоритм: lbfgs\n",
      "CPU times: total: 78.1 ms\n",
      "Wall time: 85.9 ms\n"
     ]
    },
    {
     "name": "stderr",
     "output_type": "stream",
     "text": [
      "\n"
     ]
    }
   ],
   "source": [
    "%%time\n",
    "best_model_log_non_balanced = None\n",
    "best_f1 = 0\n",
    "best_solv = ''\n",
    "precision_data = []\n",
    "recall_data = []\n",
    "for solv in tqdm(['lbfgs', 'liblinear', 'newton-cg', 'newton-cholesky', 'sag', 'saga']):\n",
    "    model_log_non_balanced =LogisticRegression(random_state=42, solver='lbfgs', max_iter=10000)\n",
    "    model_log_non_balanced.fit(features_train, target_train)\n",
    "    target_predict = model_log_non_balanced.predict(features_valid)\n",
    "    result_f1 = f1_score(target_valid, target_predict)\n",
    "    precision_data.append(precision_score(target_valid, model_log_non_balanced.predict(features_valid)))\n",
    "    recall_data.append(recall_score(target_valid, model_log_non_balanced.predict(features_valid)))\n",
    "    if result_f1 > best_f1: \n",
    "        best_f1 = result_f1\n",
    "        best_solv = solv\n",
    "        best_model_log_non_balanced = model_log_non_balanced\n",
    "\n",
    "print(f'F1-Мера: {result_f1}\\n\\\n",
    "Лучший алгоритм: {best_solv}')"
   ]
  },
  {
   "cell_type": "code",
   "execution_count": 18,
   "metadata": {
    "scrolled": false
   },
   "outputs": [
    {
     "name": "stderr",
     "output_type": "stream",
     "text": [
      "C:\\Users\\miroshkin\\AppData\\Local\\Temp\\ipykernel_17572\\3345418743.py:4: RuntimeWarning: invalid value encountered in true_divide\n",
      "  f1 = 2*x*y / (x+y)\n"
     ]
    },
    {
     "data": {
      "image/png": "[encoded data removed]",
      "text/plain": [
       "<Figure size 864x504 with 2 Axes>"
      ]
     },
     "metadata": {
      "needs_background": "light"
     },
     "output_type": "display_data"
    }
   ],
   "source": [
    "pr_f1(recall_data,precision_data)"
   ]
  },
  {
   "cell_type": "markdown",
   "metadata": {},
   "source": [
    "<div class=\"alert alert-info\">\n",
    "    <font size=\"4\", color = \"black\">Долго и упорно я хотел построить красивый график для PR кривой и контурами из F1 меры. Оказалось, что вне зависимости от алгоритма расчета логистическая регрессия выдает все время одинаковые значения precision и recall. В итоге приходиться довольствоваться ОДНОЙ красной  😂 точкой на графике с единственным выводом, что значение F1-Меры ниже погорогового для сдачи проекта)</font>\n",
    "    <br /> \n",
    "    <font size=\"3\", color = \"black\">\n",
    "<br /> ... , вот мой вопрос ... не понимаю какие гиперпараметры варьировать для повышения метрик в модели логистической регрессии можно подсказку?\n",
    "        "
   ]
  },
  {
   "cell_type": "markdown",
   "metadata": {},
   "source": [
    "<div class=\"alert alert-success\">\n",
    "<h2> Комментарий ревьюера <a class=\"tocSkip\"> </h2>\n",
    "\n",
    "👍 Привет. Во-первых, отличный график. По гиперпараметрам с регрессией - есть такой гиперпараметр «С» (кажется, так и подается), он фактически отвечает за то, насколько сильная будет регуляризация (можно попробовать от 0.1 до 5 где-то). Это может сработать и немного повысить качество модели.\n",
    "    \n",
    "Можно из интереса посмотреть по предельному количеству итераций - но там, как правило, после сходимости модель также не движется max_iter (результаты будут хуже или такими же). Чтобы что-то увидеть, нужно брать низкие значения.\n",
    "    \n",
    "Можно также попробовать сдвинуть пороговое значение класса, тогда, естественно, баланс  precision и recall будет скакать. По наблюдению, при идеальном подборе гиперпараметров в деревьях и даже если ничего особо не крутить в регрессии, близкий к оптимальному порог будет как раз 0.5. (то есть, тут тоже скорее из интереса посмотрим).\n",
    "    \n",
    "А такой низкий результат для регрессии здесь − логичнен. Модель быстро учится и находит локальный минимум, но у нас такие фичи, что регрессия не делает точного обобщения.\n",
    "</div>\n",
    "\n"
   ]
  },
  {
   "cell_type": "markdown",
   "metadata": {},
   "source": [
    "**Вывод основных метрик логистической регрессии**"
   ]
  },
  {
   "cell_type": "code",
   "execution_count": 19,
   "metadata": {},
   "outputs": [
    {
     "name": "stdout",
     "output_type": "stream",
     "text": [
      "              precision    recall  f1-score   support\n",
      "\n",
      "           0       0.83      0.96      0.89      1592\n",
      "           1       0.62      0.22      0.33       408\n",
      "\n",
      "    accuracy                           0.81      2000\n",
      "   macro avg       0.72      0.59      0.61      2000\n",
      "weighted avg       0.79      0.81      0.78      2000\n",
      "\n"
     ]
    }
   ],
   "source": [
    "print(classification_report(target_valid, target_predict))"
   ]
  },
  {
   "cell_type": "markdown",
   "metadata": {},
   "source": [
    "Метрики для \"0\" класса сильно выше \"1\". Особенно низко выглядят показатели recall. Всего 22 % реально существующих единичек в датасете найдено нашей моделью."
   ]
  },
  {
   "cell_type": "markdown",
   "metadata": {},
   "source": [
    "#### ROC-CURVE"
   ]
  },
  {
   "cell_type": "code",
   "execution_count": 20,
   "metadata": {},
   "outputs": [
    {
     "data": {
      "image/png": "[encoded data removed]",
      "text/plain": [
       "<Figure size 1080x432 with 1 Axes>"
      ]
     },
     "metadata": {
      "needs_background": "light"
     },
     "output_type": "display_data"
    }
   ],
   "source": [
    "probabilities_valid = best_model_log_non_balanced.predict_proba(features_valid)\n",
    "probabilities_one_valid = probabilities_valid[:, 1]\n",
    "fpr, tpr, thresholds = roc_curve(target_valid, probabilities_one_valid) \n",
    "fig, ax = plt.subplots(figsize=(15,6))\n",
    "plt.plot(fpr, tpr);\n",
    "plt.grid()\n",
    "plt.title('ROC Curve non balanced\\n', fontsize=16);\n",
    "plt.xlabel('\\n False Positive Rate', fontsize=16);\n",
    "plt.ylabel('True Positive Rate', fontsize=16)\n",
    "plt.plot([0,1], [0,1], linestyle='--', c='r');\n",
    "ax.text(0.6, 0.2, 'AUC-ROC = ' + str(roc_auc_score(target_valid,  probabilities_one_valid)), fontsize=16);"
   ]
  },
  {
   "cell_type": "markdown",
   "metadata": {},
   "source": [
    "**Модель работает лучше случайной, показатель AUC-ROC = 0.79**"
   ]
  },
  {
   "cell_type": "markdown",
   "metadata": {},
   "source": [
    "### Случайный лес"
   ]
  },
  {
   "cell_type": "markdown",
   "metadata": {},
   "source": [
    "<hr style=\"border: 2px solid blue;\">"
   ]
  },
  {
   "cell_type": "code",
   "execution_count": 21,
   "metadata": {
    "scrolled": true
   },
   "outputs": [
    {
     "name": "stderr",
     "output_type": "stream",
     "text": [
      "100%|██████████████████████████████████████████████████████████████████████████████████| 10/10 [02:01<00:00, 12.14s/it]"
     ]
    },
    {
     "name": "stdout",
     "output_type": "stream",
     "text": [
      "Наибольшая доля правильных ответов: 0.6170212765957447 \n",
      "при максимальной глубине дерева: 10\n",
      "при количестве оценщиков: 61\n",
      "Минимальный размер конечного узла: 1\n",
      "CPU times: total: 2min 1s\n",
      "Wall time: 2min 1s\n"
     ]
    },
    {
     "name": "stderr",
     "output_type": "stream",
     "text": [
      "\n"
     ]
    }
   ],
   "source": [
    "%%time\n",
    "best_model_forest_classifier_non_balanced = None\n",
    "best_f1 = 0\n",
    "best_depth = 0\n",
    "best_estimators = 0\n",
    "best_leaf = 0\n",
    "f1_data = {\n",
    "    'train': [],\n",
    "    'valid': []\n",
    "    \n",
    "}\n",
    "precision_data_forest = []\n",
    "recall_data_forest = []\n",
    "for depth in tqdm(range(5,15)):\n",
    "    for est in range(1,101, 10):\n",
    "        for leaf in range(1,5):\n",
    "            #initialize model\n",
    "            model = RandomForestClassifier(random_state=42, max_depth=depth, n_estimators=est, min_samples_leaf=leaf)\n",
    "            model.fit(features_train, target_train)\n",
    "            target_predict = model.predict(features_valid)\n",
    "            result_f1 = f1_score(target_valid, target_predict)\n",
    "            f1_data.get('train').append(f1_score(target_train, model.predict(features_train)))\n",
    "            f1_data.get('valid').append(f1_score(target_valid, model.predict(features_valid)))\n",
    "            warnings.filterwarnings('ignore')\n",
    "            precision_data_forest.append(precision_score\\\n",
    "                                         (target_valid, model.predict(features_valid)))\n",
    "            recall_data_forest.append(recall_score\\\n",
    "                                      (target_valid, model.predict(features_valid)))\n",
    "            \n",
    "            if  result_f1 > best_f1:\n",
    "                best_f1 = result_f1\n",
    "                best_model_forest_classifier_non_balanced = model\n",
    "                best_depth = depth\n",
    "                best_estimators = est\n",
    "                best_leaf = leaf\n",
    "print(f'Наибольшая доля правильных ответов: {best_f1} \\n\\\n",
    "при максимальной глубине дерева: {best_depth}\\n\\\n",
    "при количестве оценщиков: {best_estimators}\\n\\\n",
    "Минимальный размер конечного узла: {best_leaf}')\n"
   ]
  },
  {
   "cell_type": "markdown",
   "metadata": {},
   "source": [
    "<hr style=\"border: 2px solid blue;\">"
   ]
  },
  {
   "cell_type": "markdown",
   "metadata": {},
   "source": [
    "<div class=\"alert alert-success\">\n",
    "<h2> Комментарий ревьюера <a class=\"tocSkip\"> </h2>\n",
    "\n",
    "👍  Я бы здесь взял чуть пошире диапазон значений для перебора гиперпараметров, добавив шаг, чтобы не обучаться вечность.\n",
    "    \n",
    "`for depth in tqdm(range(5,15)):\n",
    "    for est in range(1,101,10):\n",
    "        for leaf in range(1,5):`\n",
    "</div>\n"
   ]
  },
  {
   "cell_type": "markdown",
   "metadata": {},
   "source": [
    "<div class=\"alert alert-info\">\n",
    "    <font size=\"4\", color = \"black\">✍ Так и сделал. Учиться конечно подольше) но все равно не критично, зато метрика выросла до 0.617\n",
    "    </font>\n",
    "    <br /> \n",
    "    <font size=\"3\", color = \"black\">\n",
    "<br /> \n",
    "        "
   ]
  },
  {
   "cell_type": "markdown",
   "metadata": {},
   "source": [
    "### PR-Кривая Случайный лес"
   ]
  },
  {
   "cell_type": "code",
   "execution_count": 22,
   "metadata": {
    "scrolled": false
   },
   "outputs": [
    {
     "data": {
      "image/png": "[encoded data removed]",
      "text/plain": [
       "<Figure size 864x504 with 2 Axes>"
      ]
     },
     "metadata": {
      "needs_background": "light"
     },
     "output_type": "display_data"
    }
   ],
   "source": [
    "pr_f1(recall_data_forest,precision_data_forest, dot_size=1, alpha=0.6)"
   ]
  },
  {
   "cell_type": "markdown",
   "metadata": {},
   "source": [
    "### Вывод по блоку \"Исследование задачи\"\n",
    "1. Данные не сбалансированы, клиенты чаще остаются в банке, чем уходят. Соотношение классов примерно 4 к 1.\n",
    "2. Модель логистической регрессии без учета дисбаланса классов показала себя плохо. Всего 22 % клиентов, собирающихся уйти,  найдено нашей моделью. При этом показатель F1 меры = 0.32\n",
    "3. Модель случайного леса при переборе трех гиперпараметров (глубина, количество деревьев и минимальный размер узла) дает более высокие результаты по всем метрикам, чем логистическая регрессия даже без учета дисбаланса. При наилучших гиперпараметрах, модель позволяет достичь порогового значения F1-меры уже на этом этапе"
   ]
  },
  {
   "cell_type": "markdown",
   "metadata": {},
   "source": [
    "<div class=\"alert alert-success\">\n",
    "<h2> Комментарий ревьюера <a class=\"tocSkip\"> </h2>\n",
    "\n",
    "👍 Отличный комментарий.\n",
    "</div>\n"
   ]
  },
  {
   "cell_type": "markdown",
   "metadata": {},
   "source": [
    "# Борьба с дисбалансом"
   ]
  },
  {
   "cell_type": "markdown",
   "metadata": {},
   "source": [
    "## Логистическая регрессия (дисбаланс)"
   ]
  },
  {
   "cell_type": "markdown",
   "metadata": {},
   "source": [
    "Существует несколько методов борьбы с дисбалансом. Попробуем последовательно применить каждую, отслеживая изменения метрик."
   ]
  },
  {
   "cell_type": "markdown",
   "metadata": {},
   "source": [
    "### class_weight='balanced'\n",
    "Наиболее простым методом является передать в модель параметр `class_weight='balanced'`, что повысит вес малого класса в количество раз, равное отношению числа представителей большего класса к меньшему"
   ]
  },
  {
   "cell_type": "code",
   "execution_count": 23,
   "metadata": {},
   "outputs": [
    {
     "name": "stderr",
     "output_type": "stream",
     "text": [
      "100%|████████████████████████████████████████████████████████████████████████████████████| 6/6 [00:00<00:00, 76.91it/s]"
     ]
    },
    {
     "name": "stdout",
     "output_type": "stream",
     "text": [
      "F1-Мера: 0.5192143467122119\n",
      "Лучший алгоритм: lbfgs\n",
      "CPU times: total: 93.8 ms\n",
      "Wall time: 84 ms\n"
     ]
    },
    {
     "name": "stderr",
     "output_type": "stream",
     "text": [
      "\n"
     ]
    }
   ],
   "source": [
    "%%time\n",
    "best_model_log_balanced = None\n",
    "best_f1 = 0\n",
    "best_solv = ''\n",
    "precision_data = []\n",
    "recall_data = []\n",
    "for solv in tqdm(['lbfgs', 'liblinear', 'newton-cg', 'newton-cholesky', 'sag', 'saga']):\n",
    "    model_log_balanced =LogisticRegression(random_state=42, solver='lbfgs', max_iter=10000, class_weight='balanced')\n",
    "    model_log_balanced.fit(features_train, target_train)\n",
    "    target_predict = model_log_balanced.predict(features_valid)\n",
    "    result_f1 = f1_score(target_valid, target_predict)\n",
    "    precision_data.append(precision_score(target_valid, model_log_balanced.predict(features_valid)))\n",
    "    recall_data.append(recall_score(target_valid, model_log_balanced.predict(features_valid)))\n",
    "    if result_f1 > best_f1: \n",
    "        best_f1 = result_f1\n",
    "        best_solv = solv\n",
    "        best_model_log_balanced = model_log_balanced\n",
    "\n",
    "print(f'F1-Мера: {result_f1}\\n\\\n",
    "Лучший алгоритм: {best_solv}')"
   ]
  },
  {
   "cell_type": "code",
   "execution_count": 24,
   "metadata": {},
   "outputs": [
    {
     "data": {
      "image/png": "[encoded data removed]",
      "text/plain": [
       "<Figure size 864x504 with 2 Axes>"
      ]
     },
     "metadata": {
      "needs_background": "light"
     },
     "output_type": "display_data"
    }
   ],
   "source": [
    "pr_f1(recall_data,precision_data)"
   ]
  },
  {
   "cell_type": "code",
   "execution_count": 25,
   "metadata": {},
   "outputs": [
    {
     "name": "stdout",
     "output_type": "stream",
     "text": [
      "              precision    recall  f1-score   support\n",
      "\n",
      "           0       0.92      0.71      0.80      1592\n",
      "           1       0.40      0.75      0.52       408\n",
      "\n",
      "    accuracy                           0.72      2000\n",
      "   macro avg       0.66      0.73      0.66      2000\n",
      "weighted avg       0.81      0.72      0.74      2000\n",
      "\n"
     ]
    }
   ],
   "source": [
    " print(classification_report(target_valid, model_log_balanced.predict(features_valid)))"
   ]
  },
  {
   "cell_type": "markdown",
   "metadata": {},
   "source": [
    "Банально добавить аргумент `class_weight='balanced` значительно повышет метрики нашей модели. Показатель F1 меры увеличился до 0.52"
   ]
  },
  {
   "cell_type": "markdown",
   "metadata": {},
   "source": [
    "<div class=\"alert alert-success\">\n",
    "<h2> Комментарий ревьюера <a class=\"tocSkip\"> </h2>\n",
    "\n",
    "👍 Да, и что особенно радует - в основном за счет увеличения recall - метрики, которая показывает, какую часть оттока мы детектируем верно. \n",
    "</div>\n"
   ]
  },
  {
   "cell_type": "markdown",
   "metadata": {},
   "source": [
    "### UpSampling"
   ]
  },
  {
   "cell_type": "markdown",
   "metadata": {},
   "source": [
    "<div class=\"alert alert-success\">\n",
    "<h2> Комментарий ревьюера <a class=\"tocSkip\"> </h2>\n",
    "\n",
    "👍 Отлично, что используешь рукописную функцию, но здесь можно все оптимизировать, используя <a href=\"https://imbalanced-learn.org/stable/references/generated/imblearn.over_sampling.SMOTE.html\">SMOTE</a> для увеличения выборки и <a href=\"https://imbalanced-learn.org/stable/references/generated/imblearn.under_sampling.RandomUnderSampler.html\">RandomUnderSampler</a>  для уменьшения. \n",
    "    \n",
    "Апсемплинг делается очень просто:\n",
    "    \n",
    "`oversample = SMOTE(random_state=RANDOM_STATE)`\n",
    "\n",
    "`features_train_up, target_train_up = oversample.fit_resample(features_train_enc, target_train)`\n",
    "    \n",
    "*предварительно импотрировав `from imblearn.over_sampling import SMOTE`\n",
    "\n",
    "**Чтобы импортировать imblearn его сначала требуется проинсталлировать. через `!pip install imblearn`\n",
    "    \n",
    "</div>"
   ]
  },
  {
   "cell_type": "markdown",
   "metadata": {},
   "source": [
    "<div class=\"alert alert-block alert-danger\">\n",
    "<h2> Комментарий ревьюера #2 <a class=\"tocSkip\"></h2>\n",
    "  \n",
    "<b>На доработку🤔:</b>\n",
    " \n",
    "Видимо, я пропустил. Обрати внимание, ты делаешь апсемплинг в 10 раз, а у нас дисбаланс 4. Нужно в функцию подать 4. Отсюда и качество не очень для такого метода.\n",
    "    \n",
    "UPD - нет не пропустил, это, видимо, ты недопонял. \n",
    "    \n",
    "Ошибка в строке: `features_upsampled, target_upsampled = upsample(features_train, target_train, 10)`\n",
    "\n",
    "</div>\n"
   ]
  },
  {
   "cell_type": "markdown",
   "metadata": {},
   "source": [
    "<div class=\"alert alert-info\", style='border: solid; border-color: red; border-width: 3px'>\n",
    "        <font size=\"4\", color = \"black\">✍Я решил переделать блок с Апсемплингом на предыдущей итерации проверки, просто не удалил старый неверный код( <br>\n",
    "            Новый код ниже между двумя синими линиями.\n",
    "            Использую: <br> <code>oversample = SMOTE(random_state=RANDOM_STATE)</code>\n",
    "\n",
    "<code>features_train_up, target_train_up = oversample.fit_resample(features_train_enc, target_train)</code>\n",
    "           <br> Также проверяю баланс классов <br>\n",
    "            <code>target_train_up.value_counts()</code>\n",
    "</font>\n",
    "<br /> \n",
    "<br /> "
   ]
  },
  {
   "cell_type": "markdown",
   "metadata": {},
   "source": [
    "<hr style=\"border: 2px solid blue;\">"
   ]
  },
  {
   "cell_type": "code",
   "execution_count": 26,
   "metadata": {},
   "outputs": [],
   "source": [
    "oversample = SMOTE(random_state=42)\n",
    "features_train_up, target_train_up = oversample.fit_resample(features_train, target_train)"
   ]
  },
  {
   "cell_type": "code",
   "execution_count": 27,
   "metadata": {},
   "outputs": [
    {
     "data": {
      "text/plain": [
       "0    4778\n",
       "1    4778\n",
       "Name: Exited, dtype: int64"
      ]
     },
     "execution_count": 27,
     "metadata": {},
     "output_type": "execute_result"
    }
   ],
   "source": [
    "target_train_up.value_counts()"
   ]
  },
  {
   "cell_type": "code",
   "execution_count": 28,
   "metadata": {},
   "outputs": [
    {
     "name": "stderr",
     "output_type": "stream",
     "text": [
      "100%|████████████████████████████████████████████████████████████████████████████████████| 6/6 [00:00<00:00, 81.06it/s]"
     ]
    },
    {
     "name": "stdout",
     "output_type": "stream",
     "text": [
      "F1-Мера: 0.521514629948365\n",
      "Лучший алгоритм: lbfgs\n",
      "CPU times: total: 78.1 ms\n",
      "Wall time: 75 ms\n"
     ]
    },
    {
     "name": "stderr",
     "output_type": "stream",
     "text": [
      "\n"
     ]
    }
   ],
   "source": [
    "%%time\n",
    "best_model_log_balanced = None\n",
    "best_f1 = 0\n",
    "best_solv = ''\n",
    "precision_data = []\n",
    "recall_data = []\n",
    "for solv in tqdm(['lbfgs', 'liblinear', 'newton-cg', 'newton-cholesky', 'sag', 'saga']):\n",
    "    model_log_balanced =LogisticRegression(random_state=42, solver='lbfgs', max_iter=10000)\n",
    "    model_log_balanced.fit(features_train_up, target_train_up)\n",
    "    target_predict = model_log_balanced.predict(features_valid)\n",
    "    result_f1 = f1_score(target_valid, target_predict)\n",
    "    precision_data.append(precision_score(target_valid, model_log_balanced.predict(features_valid)))\n",
    "    recall_data.append(recall_score(target_valid, model_log_balanced.predict(features_valid)))\n",
    "    if result_f1 > best_f1: \n",
    "        best_f1 = result_f1\n",
    "        best_solv = solv\n",
    "        best_model_log_balanced = model_log_balanced\n",
    "\n",
    "print(f'F1-Мера: {result_f1}\\n\\\n",
    "Лучший алгоритм: {best_solv}')"
   ]
  },
  {
   "cell_type": "code",
   "execution_count": 29,
   "metadata": {},
   "outputs": [
    {
     "data": {
      "image/png": "[encoded data removed]",
      "text/plain": [
       "<Figure size 864x504 with 2 Axes>"
      ]
     },
     "metadata": {
      "needs_background": "light"
     },
     "output_type": "display_data"
    }
   ],
   "source": [
    "pr_f1(recall_data,precision_data)"
   ]
  },
  {
   "cell_type": "code",
   "execution_count": 30,
   "metadata": {},
   "outputs": [
    {
     "name": "stdout",
     "output_type": "stream",
     "text": [
      "              precision    recall  f1-score   support\n",
      "\n",
      "           0       0.92      0.72      0.80      1592\n",
      "           1       0.40      0.74      0.52       408\n",
      "\n",
      "    accuracy                           0.72      2000\n",
      "   macro avg       0.66      0.73      0.66      2000\n",
      "weighted avg       0.81      0.72      0.75      2000\n",
      "\n"
     ]
    }
   ],
   "source": [
    " print(classification_report(target_valid, model_log_balanced.predict(features_valid)))"
   ]
  },
  {
   "cell_type": "markdown",
   "metadata": {},
   "source": [
    "<hr style=\"border: 2px solid blue;\">"
   ]
  },
  {
   "cell_type": "markdown",
   "metadata": {},
   "source": [
    "<div class=\"alert alert-block alert-danger\">\n",
    "<h2> Комментарий ревьюера <a class=\"tocSkip\"></h2>\n",
    "  \n",
    "<b>На доработку🤔:</b>\n",
    " \n",
    "Почему продублировали до 10 раз? Кажется, так было в тренажере. 10 - это во сколько раз увеличиваем редкий класс. У нас дисбаланс 1:4, как мы прокомментировали раньше. Нужно довести до 1:1, соответственно, нужно увеличить редкий класс в 4 раза, а не в 10.\n",
    "\n",
    "</div>"
   ]
  },
  {
   "cell_type": "markdown",
   "metadata": {},
   "source": [
    "<div class=\"alert alert-info\">\n",
    "    <font size=\"4\", color = \"black\">✍Упс. Переделываю. <br>\n",
    "       В таргете теперь баланс 1:1 - Отлично. Показатель f1 меры вырос до 0.52 - результат выше, чем у \n",
    "        <code>class_weight=balanced</code>\n",
    "    </font>\n",
    "    <br /> \n",
    "    <font size=\"3\", color = \"black\">\n",
    "<br /> \n",
    "        "
   ]
  },
  {
   "cell_type": "markdown",
   "metadata": {},
   "source": [
    "<div class=\"alert alert-block alert-danger\">\n",
    "<h2> Комментарий ревьюера #2 <a class=\"tocSkip\"></h2>\n",
    "  \n",
    "<b>На доработку🤔:</b>\n",
    " \n",
    "Все еще нет. Написал выше.\n",
    "\n",
    "</div>\n"
   ]
  },
  {
   "cell_type": "code",
   "execution_count": 31,
   "metadata": {},
   "outputs": [
    {
     "data": {
      "image/png": "[encoded data removed]",
      "text/plain": [
       "<Figure size 1080x432 with 1 Axes>"
      ]
     },
     "metadata": {
      "needs_background": "light"
     },
     "output_type": "display_data"
    }
   ],
   "source": [
    "probabilities_valid = model_log_balanced.predict_proba(features_valid)\n",
    "probabilities_one_valid = probabilities_valid[:, 1]\n",
    "fpr, tpr, thresholds = roc_curve(target_valid, probabilities_one_valid) \n",
    "fig, ax = plt.subplots(figsize=(15,6))\n",
    "plt.plot(fpr, tpr);\n",
    "plt.grid()\n",
    "plt.title('ROC Curve balanced \\n', fontsize=16);\n",
    "plt.xlabel('\\n False Positive Rate', fontsize=16);\n",
    "plt.ylabel('True Positive Rate', fontsize=16)\n",
    "plt.plot([0,1], [0,1], linestyle='--', c='r');\n",
    "ax.text(0.6, 0.2, 'AUC-ROC = ' + str(roc_auc_score(target_valid,  probabilities_one_valid)), fontsize=16);"
   ]
  },
  {
   "cell_type": "markdown",
   "metadata": {},
   "source": [
    "ROC-CURVE увеличила свое значение на несколько процентных пунктов"
   ]
  },
  {
   "cell_type": "markdown",
   "metadata": {},
   "source": [
    "Посмотрим \"под капот\" к логистической регрессии - определим, какие признаки она выбрала как наиболее значимые "
   ]
  },
  {
   "cell_type": "code",
   "execution_count": 32,
   "metadata": {},
   "outputs": [
    {
     "data": {
      "image/png": "[encoded data removed]",
      "text/plain": [
       "<Figure size 1080x504 with 1 Axes>"
      ]
     },
     "metadata": {
      "needs_background": "light"
     },
     "output_type": "display_data"
    }
   ],
   "source": [
    "fig, ax = plt.subplots(1,1, figsize=(15,7))\n",
    "pd.DataFrame(best_model_log_balanced.coef_[0], \n",
    "             index=best_model_log_balanced.feature_names_in_).rename(columns={0:'Коэффициенты регрессии'})\\\n",
    ".plot(kind='bar',ax=ax, grid=True, rot=45, title='Коэффициенты логистической регрессии', ylabel='Вес');"
   ]
  },
  {
   "cell_type": "markdown",
   "metadata": {},
   "source": [
    "<div class=\"alert alert-block alert-danger\">\n",
    "<h2><s> Комментарий ревьюера <a class=\"tocSkip\"></h2>\n",
    "  \n",
    "<b>На доработку🤔:</b>\n",
    " \n",
    "Нужно поправить упавший код.\n",
    "\n",
    "</div>"
   ]
  },
  {
   "cell_type": "markdown",
   "metadata": {},
   "source": [
    "<div class=\"alert alert-info\">\n",
    "    <font size=\"4\", color = \"black\">✍Странно, что упал. Ничего не менял - просто перезапустил</font>\n",
    "    <br /> \n",
    "    <font size=\"3\", color = \"black\">\n",
    "<br />\n",
    "        "
   ]
  },
  {
   "cell_type": "markdown",
   "metadata": {},
   "source": [
    "<div class=\"alert alert-success\">\n",
    "<h2> Комментарий ревьюера #2 <a class=\"tocSkip\"> </h2>\n",
    "\n",
    "👍 Ок. К сожалению, бывают проблемы с платформой.\n",
    "</div>\n"
   ]
  },
  {
   "cell_type": "markdown",
   "metadata": {},
   "source": [
    "Модель определила, что люди с большим возрастом, а также немцы вероятнее всего покинут Бета-Банк. Возможно стоит сделать небольшую акцию для этих групп"
   ]
  },
  {
   "cell_type": "markdown",
   "metadata": {},
   "source": [
    "<div class=\"alert alert-block alert-danger\">\n",
    "<h2> Комментарий ревьюера <a class=\"tocSkip\"></h2>\n",
    "  \n",
    "<b>На доработку🤔:</b>\n",
    " \n",
    "Здесь важно попробовать все выбранные изначально модели со всеми методиками борьбы с дисбалансом.\n",
    "\n",
    "</div>"
   ]
  },
  {
   "cell_type": "markdown",
   "metadata": {},
   "source": [
    "<div class=\"alert alert-info\">\n",
    "    <font size=\"4\", color = \"black\">✍Правильно понимаю, что методы у нас: <br>\n",
    "    1. <code>class_weight=balanced</code><br>\n",
    "    2. UpSampling</font>\n",
    "    <br /> \n",
    "    <font size=\"3\", color = \"black\">\n",
    "<br /> \n",
    "        "
   ]
  },
  {
   "cell_type": "markdown",
   "metadata": {},
   "source": [
    "<div class=\"alert alert-success\">\n",
    "<h2> Комментарий ревьюера #2 <a class=\"tocSkip\"> </h2>\n",
    "\n",
    "👍 Верно. Единственное, уточню, что пробуем их по очереди.\n",
    "</div>\n"
   ]
  },
  {
   "cell_type": "markdown",
   "metadata": {},
   "source": [
    "### Случайный лес (дисбаланс классов)"
   ]
  },
  {
   "cell_type": "markdown",
   "metadata": {},
   "source": [
    "<hr style=\"border: 2px solid blue;\">"
   ]
  },
  {
   "cell_type": "markdown",
   "metadata": {},
   "source": [
    "### Class_weight='balanced'"
   ]
  },
  {
   "cell_type": "code",
   "execution_count": 33,
   "metadata": {},
   "outputs": [
    {
     "name": "stderr",
     "output_type": "stream",
     "text": [
      "100%|██████████████████████████████████████████████████████████████████████████████████| 10/10 [01:59<00:00, 11.97s/it]"
     ]
    },
    {
     "name": "stdout",
     "output_type": "stream",
     "text": [
      "Наибольшая доля правильных ответов: 0.6446078431372549 \n",
      "при максимальной глубине дерева: 14\n",
      "при количестве оценщиков: 91\n",
      "Минимальный размер конечного узла: 4\n",
      "CPU times: total: 1min 59s\n",
      "Wall time: 1min 59s\n"
     ]
    },
    {
     "name": "stderr",
     "output_type": "stream",
     "text": [
      "\n"
     ]
    }
   ],
   "source": [
    "%%time\n",
    "best_model_forest_classifier_balanced = None\n",
    "best_f1 = 0\n",
    "best_depth = 0\n",
    "best_estimators = 0\n",
    "best_leaf = 0\n",
    "f1_data = {\n",
    "    'train': [],\n",
    "    'valid': []\n",
    "    \n",
    "}\n",
    "precision_data_forest_balanced = []\n",
    "recall_data_forest_balanced = []\n",
    "for depth in tqdm(range(5,15)):\n",
    "    for est in range(1,101, 10):\n",
    "        for leaf in range(1,5):\n",
    "            #initialize model\n",
    "            model = RandomForestClassifier(random_state=42, max_depth=depth, \\\n",
    "                                           n_estimators=est, min_samples_leaf=leaf, class_weight='balanced')\n",
    "            model.fit(features_train, target_train)\n",
    "            target_predict = model.predict(features_valid)\n",
    "            result_f1 = f1_score(target_valid, target_predict)\n",
    "            f1_data.get('train').append(f1_score(target_train, model.predict(features_train)))\n",
    "            f1_data.get('valid').append(f1_score(target_valid, model.predict(features_valid)))\n",
    "            precision_data_forest_balanced.append(precision_score\\\n",
    "                                         (target_valid, model.predict(features_valid)))\n",
    "            recall_data_forest_balanced.append(recall_score\\\n",
    "                                      (target_valid, model.predict(features_valid)))\n",
    "            if  result_f1 > best_f1:\n",
    "                best_f1 = result_f1\n",
    "                best_model_forest_classifier_balanced = model\n",
    "                best_depth = depth\n",
    "                best_estimators = est\n",
    "                best_leaf = leaf\n",
    "print(f'Наибольшая доля правильных ответов: {best_f1} \\n\\\n",
    "при максимальной глубине дерева: {best_depth}\\n\\\n",
    "при количестве оценщиков: {best_estimators}\\n\\\n",
    "Минимальный размер конечного узла: {best_leaf}')\n"
   ]
  },
  {
   "cell_type": "code",
   "execution_count": 34,
   "metadata": {},
   "outputs": [
    {
     "data": {
      "image/png": "[encoded data removed]",
      "text/plain": [
       "<Figure size 864x504 with 2 Axes>"
      ]
     },
     "metadata": {
      "needs_background": "light"
     },
     "output_type": "display_data"
    }
   ],
   "source": [
    "pr_f1(recall_data_forest_balanced,precision_data_forest_balanced, dot_size=1, alpha=0.6)"
   ]
  },
  {
   "cell_type": "code",
   "execution_count": 35,
   "metadata": {},
   "outputs": [
    {
     "name": "stdout",
     "output_type": "stream",
     "text": [
      "              precision    recall  f1-score   support\n",
      "\n",
      "           0       0.91      0.91      0.91      1592\n",
      "           1       0.64      0.64      0.64       408\n",
      "\n",
      "    accuracy                           0.85      2000\n",
      "   macro avg       0.78      0.78      0.78      2000\n",
      "weighted avg       0.85      0.85      0.85      2000\n",
      "\n"
     ]
    }
   ],
   "source": [
    "print(classification_report(target_valid, best_model_forest_classifier_balanced.predict(features_valid)))"
   ]
  },
  {
   "cell_type": "markdown",
   "metadata": {},
   "source": [
    "Метрика F1-увеличилась до 0.644. Помимо этого значительно вырос показатель Recall, что не может не радовать. Модель нашла почти 3 из 4 собирающихся уходить из банка людей!"
   ]
  },
  {
   "cell_type": "markdown",
   "metadata": {},
   "source": [
    "<div class=\"alert alert-success\">\n",
    "<h2> Комментарий ревьюера <a class=\"tocSkip\"> </h2>\n",
    "\n",
    "👍 Ок, с лучшей моделью определились.\n",
    "</div>"
   ]
  },
  {
   "cell_type": "markdown",
   "metadata": {},
   "source": [
    "## Cлучайный лес UpSampling"
   ]
  },
  {
   "cell_type": "code",
   "execution_count": 36,
   "metadata": {},
   "outputs": [
    {
     "name": "stderr",
     "output_type": "stream",
     "text": [
      "100%|██████████████████████████████████████████████████████████████████████████████████| 10/10 [03:02<00:00, 18.30s/it]"
     ]
    },
    {
     "name": "stdout",
     "output_type": "stream",
     "text": [
      "Наибольшая доля правильных ответов: 0.6375545851528384 \n",
      "при максимальной глубине дерева: 13\n",
      "при количестве оценщиков: 81\n",
      "Минимальный размер конечного узла: 4\n",
      "CPU times: total: 3min 2s\n",
      "Wall time: 3min 2s\n"
     ]
    },
    {
     "name": "stderr",
     "output_type": "stream",
     "text": [
      "\n"
     ]
    }
   ],
   "source": [
    "%%time\n",
    "best_model_forest_classifier_upsampling = None\n",
    "best_f1 = 0\n",
    "best_depth = 0\n",
    "best_estimators = 0\n",
    "best_leaf = 0\n",
    "f1_data = {\n",
    "    'train': [],\n",
    "    'valid': []\n",
    "    \n",
    "}\n",
    "\n",
    "precision_data_forest_balanced = []\n",
    "recall_data_forest_balanced = []\n",
    "for depth in tqdm(range(5,15)):\n",
    "    for est in range(1,101, 10):\n",
    "        for leaf in range(1,5):\n",
    "            #initialize model\n",
    "            model = RandomForestClassifier(random_state=42, max_depth=depth, \\\n",
    "                                           n_estimators=est, min_samples_leaf=leaf, class_weight='balanced')\n",
    "            model.fit(features_train_up, target_train_up)\n",
    "            target_predict = model.predict(features_valid)\n",
    "            result_f1 = f1_score(target_valid, target_predict)\n",
    "            f1_data.get('train').append(f1_score(target_train, model.predict(features_train)))\n",
    "            f1_data.get('valid').append(f1_score(target_valid, model.predict(features_valid)))\n",
    "            precision_data_forest_balanced.append(precision_score\\\n",
    "                                         (target_valid, model.predict(features_valid)))\n",
    "            recall_data_forest_balanced.append(recall_score\\\n",
    "                                      (target_valid, model.predict(features_valid)))\n",
    "            if  result_f1 > best_f1:\n",
    "                best_f1 = result_f1\n",
    "                best_model_forest_classifier_upsampling = model\n",
    "                best_depth = depth\n",
    "                best_estimators = est\n",
    "                best_leaf = leaf\n",
    "print(f'Наибольшая доля правильных ответов: {best_f1} \\n\\\n",
    "при максимальной глубине дерева: {best_depth}\\n\\\n",
    "при количестве оценщиков: {best_estimators}\\n\\\n",
    "Минимальный размер конечного узла: {best_leaf}')"
   ]
  },
  {
   "cell_type": "code",
   "execution_count": 37,
   "metadata": {},
   "outputs": [
    {
     "data": {
      "image/png": "[encoded data removed]",
      "text/plain": [
       "<Figure size 864x504 with 2 Axes>"
      ]
     },
     "metadata": {
      "needs_background": "light"
     },
     "output_type": "display_data"
    }
   ],
   "source": [
    "pr_f1(recall_data_forest_balanced,precision_data_forest_balanced, dot_size=1, alpha=0.6)"
   ]
  },
  {
   "cell_type": "code",
   "execution_count": 38,
   "metadata": {},
   "outputs": [
    {
     "name": "stdout",
     "output_type": "stream",
     "text": [
      "              precision    recall  f1-score   support\n",
      "\n",
      "           0       0.91      0.91      0.91      1592\n",
      "           1       0.64      0.64      0.64       408\n",
      "\n",
      "    accuracy                           0.85      2000\n",
      "   macro avg       0.78      0.78      0.78      2000\n",
      "weighted avg       0.85      0.85      0.85      2000\n",
      "\n"
     ]
    }
   ],
   "source": [
    "print(classification_report(target_valid, best_model_forest_classifier_balanced.predict(features_valid)))"
   ]
  },
  {
   "cell_type": "markdown",
   "metadata": {},
   "source": [
    "<hr style=\"border: 2px solid blue;\">"
   ]
  },
  {
   "cell_type": "markdown",
   "metadata": {},
   "source": [
    "### Вывод по блоку: Дисбаланс\n",
    "1. Добавления гиперпараметра `class_weight=balanced` в модель логистической регрессии позволило значительно увеличить метрику F1 до 0.52.\n",
    "2. Дополнительно была применена техника UpSampling для логистической регресси - значительно прироста метрик это не дало. Думаю это связано с уже учтенными весами классов на тот момент. \n",
    "3. Модель логистической регрессии определила, что люди с большим возрастом, а также немцы имеют большую вероятность покинуть Бета-Банк. Возможно стоит сделать небольшую акцию для этих групп, чтобы удержать клиентов\n",
    "4. Учет гиперпараметра `class_weight=balanced` в модели случайно леса дало отличные результаты. Метрика F1-увеличилась до 0.63. Но самое главное -  значительно вырос показатель Recall, что не может не радовать. Модель нашла почти 3 из 4 собирающихся уходить из банка людей!\n",
    "5. Техника UpSampling для модели случайного леса также показала хорошие результаты: f1 мера = 0.64"
   ]
  },
  {
   "cell_type": "markdown",
   "metadata": {},
   "source": [
    "## Тестирование модели"
   ]
  },
  {
   "cell_type": "markdown",
   "metadata": {},
   "source": [
    "Лучшей моделью с точки зрения качества оказалась сбалансированная модель случайного леса с апсэмплингом - ее и будем тестировать"
   ]
  },
  {
   "cell_type": "markdown",
   "metadata": {},
   "source": [
    "### Случайный лес (тестирование)"
   ]
  },
  {
   "cell_type": "code",
   "execution_count": 39,
   "metadata": {},
   "outputs": [
    {
     "name": "stdout",
     "output_type": "stream",
     "text": [
      "F1: 0.6126126126126126\n",
      "precision: 0.5654885654885655\n",
      "recall: 0.6683046683046683\n"
     ]
    }
   ],
   "source": [
    "target_predict = best_model_forest_classifier_upsampling.predict(features_test)\n",
    "print(f'F1: {f1_score(target_test, target_predict)}\\n\\\n",
    "precision: {precision_score(target_test, target_predict)}\\n\\\n",
    "recall: {recall_score(target_test, target_predict)}')"
   ]
  },
  {
   "cell_type": "markdown",
   "metadata": {},
   "source": [
    "<div class=\"alert alert-block alert-danger\">\n",
    "<h2><s> Комментарий ревьюера <a class=\"tocSkip\"></h2>\n",
    "  \n",
    "<b>На доработку🤔:</b>\n",
    " \n",
    "Хм, а сейчас модель немного не дотянула до 0.59\n",
    "    \n",
    "Выше дал пример по гиперпараметрам, посмотри, возможно, будет удачнее. Кроме того, думаю, стоит попробовать все модели с апсемплингом, а сам апсемплинг довести до баланса классов. Возможно, апсемплинг покажется более перспективной моделью, чтобы взять на тестирование (хотя, достичь с Лесом необходимого качества можно с несколькими вариантами борьбы с дисбалансом).\n",
    "\n",
    "</div>\n"
   ]
  },
  {
   "cell_type": "markdown",
   "metadata": {},
   "source": [
    "<div class=\"alert alert-info\">\n",
    "<font size=\"4\", color = \"black\">✍ Использовал случайный лес с апсэмплингом. Метрика f1 получалась 0.61</font>\n",
    "    <br /> \n",
    "    <font size=\"3\", color = \"black\">\n",
    "<br /> \n",
    "        "
   ]
  },
  {
   "cell_type": "code",
   "execution_count": 40,
   "metadata": {},
   "outputs": [
    {
     "data": {
      "image/png": "[encoded data removed]",
      "text/plain": [
       "<Figure size 432x288 with 2 Axes>"
      ]
     },
     "metadata": {
      "needs_background": "light"
     },
     "output_type": "display_data"
    }
   ],
   "source": [
    "cm = confusion_matrix(target_test,target_predict)\n",
    "ConfusionMatrixDisplay(cm).plot();"
   ]
  },
  {
   "cell_type": "markdown",
   "metadata": {},
   "source": [
    "# Выводы по блоку \"тестирование\":\n",
    "1. На тестировании  показатели модели случайного леса оказались немного хуже, чем на валидационной выборке. \n",
    "* F1: 0.61\n",
    "* precision: 0.54\n",
    "* recall: 0.67\n",
    "\n",
    "Это может говорить о небольшой переобученности модели. Но показатели все равно остаются довольно хорошими, 67% людей, собирающихся покинуть банк удалось найти при помощи модели случайного леса. Порог по метрике F1 достигнут."
   ]
  },
  {
   "cell_type": "markdown",
   "metadata": {},
   "source": [
    "<div class=\"alert alert-success\">\n",
    "<h2> Комментарий ревьюера <a class=\"tocSkip\"> </h2>\n",
    "\n",
    "👍 Согласен. Здесь тажке можно сравнить результаты с константной моделью (а там лучше предсказывать f1 с константным классом «1»).\n",
    "</div>\n",
    "\n"
   ]
  },
  {
   "cell_type": "markdown",
   "metadata": {},
   "source": [
    "<div style=\"border:solid Chocolate 2px; padding: 40px\">\n",
    "\n",
    "**Общий вывод по проекту**\n",
    "    \n",
    "Спасибо за твой проект! Мне было интересно следить за ходом мыслей и твоими решениями. Видны основательная работа и интерес к проекту. Есть несколько важных моментов, которые необходимо улучшить. Их ты найдешь в разноцветных комментариях.\n",
    "    \n",
    "**Отмечу положительные моменты проекта🚀**\n",
    "    \n",
    "* Хорошая структура проекта. Выбор моделей, порядок исследования.\n",
    "* Есть пояснения к шагам, код с высокой читаемостью. \n",
    "* Логичность решений.\n",
    "    \n",
    "**На что стоит обратить внимание🤔**\n",
    "    \n",
    "* Необходимо изменить подход к заполнению пропусков.\n",
    "* Нужно масштабировать данные после разбиения на выборки.\n",
    "* Гиперпараметры моделеям подбираем в каждом случае применения методики борьбы с дисбалансом, используем все изначально выбранные модели во всех случаях.\n",
    "* При апсемплинге нужно довести баланс классов до 1:1.\n",
    "* Попробуй гиперпараметры в более широком диапазоне (количество деревьев в лесе до 100).\n",
    "* Необходимо достичь качества модели F1>0.59 на тестовой выборке.\n",
    "* Эти и остальные замечания я также написал по ходу проекта.\n",
    "    \n",
    "**Желаю удачи и жду твой проект на повторное ревью!**😉\n",
    "    \n",
    "    \n",
    "</div>"
   ]
  },
  {
   "cell_type": "markdown",
   "metadata": {},
   "source": [
    "<div class=\"alert alert-info\">\n",
    "    <font size=\"4\", color = \"black\">✍Вроде все учел)</font>\n",
    "    <br /> \n",
    "    <font size=\"3\", color = \"black\">\n",
    "<br /> "
   ]
  },
  {
   "cell_type": "markdown",
   "metadata": {},
   "source": [
    "<div style=\"border:solid Chocolate 2px; padding: 40px\">\n",
    "\n",
    "**Комментарий ко второй проверке**\n",
    "\n",
    "Да, почти все. Спасибо за отличную доработку. Пропустили момент с балансом классов при апсемплинге - у нас до сих пор в функции значится 10, тогда как должно быть 4. Выше написал точнее.\n",
    "    \n",
    "Попробовал ответить на вопросы. Кстати, спасибо за вопросы.\n",
    "    \n",
    "**Желаю удачи и жду твой проект на повторное ревью!**😉\n",
    "</div>\n",
    "\n"
   ]
  },
  {
   "cell_type": "markdown",
   "metadata": {},
   "source": [
    "## Чек-лист готовности проекта"
   ]
  },
  {
   "cell_type": "markdown",
   "metadata": {},
   "source": [
    "Поставьте 'x' в выполненных пунктах. Далее нажмите Shift+Enter."
   ]
  },
  {
   "cell_type": "markdown",
   "metadata": {},
   "source": [
    "- [x]  Jupyter Notebook открыт\n",
    "- [x]  Весь код выполняется без ошибок\n",
    "- [x]  Ячейки с кодом расположены в порядке исполнения\n",
    "- [x]  Выполнен шаг 1: данные подготовлены\n",
    "- [x]  Выполнен шаг 2: задача исследована\n",
    "    - [x]  Исследован баланс классов\n",
    "    - [x]  Изучены модели без учёта дисбаланса\n",
    "    - [x]  Написаны выводы по результатам исследования\n",
    "- [x]  Выполнен шаг 3: учтён дисбаланс\n",
    "    - [x]  Применено несколько способов борьбы с дисбалансом\n",
    "    - [x]  Написаны выводы по результатам исследования\n",
    "- [x]  Выполнен шаг 4: проведено тестирование\n",
    "- [x]  Удалось достичь *F1*-меры не менее 0.59\n",
    "- [x]  Исследована метрика *AUC-ROC*"
   ]
  }
 ],
 "metadata": {
  "ExecuteTimeLog": [
   {
    "duration": 1908,
    "start_time": "2023-01-18T09:23:50.804Z"
   },
   {
    "duration": 206,
    "start_time": "2023-01-18T09:23:52.714Z"
   },
   {
    "duration": 25,
    "start_time": "2023-01-18T09:23:52.921Z"
   },
   {
    "duration": 54,
    "start_time": "2023-01-18T09:23:52.947Z"
   },
   {
    "duration": 4,
    "start_time": "2023-01-18T09:23:53.004Z"
   },
   {
    "duration": 6,
    "start_time": "2023-01-18T09:23:53.010Z"
   },
   {
    "duration": 9,
    "start_time": "2023-01-18T09:23:53.018Z"
   },
   {
    "duration": 22,
    "start_time": "2023-01-18T09:23:53.047Z"
   },
   {
    "duration": 15,
    "start_time": "2023-01-18T09:23:53.070Z"
   },
   {
    "duration": 166,
    "start_time": "2023-01-18T09:23:53.086Z"
   },
   {
    "duration": 10,
    "start_time": "2023-01-18T09:23:53.255Z"
   },
   {
    "duration": 9,
    "start_time": "2023-01-18T09:23:53.267Z"
   },
   {
    "duration": 12,
    "start_time": "2023-01-18T09:23:53.277Z"
   },
   {
    "duration": 2256,
    "start_time": "2023-01-18T09:23:53.293Z"
   },
   {
    "duration": 719,
    "start_time": "2023-01-18T09:23:55.551Z"
   },
   {
    "duration": 8,
    "start_time": "2023-01-18T09:23:56.272Z"
   },
   {
    "duration": 394,
    "start_time": "2023-01-18T09:23:56.281Z"
   },
   {
    "duration": 32795,
    "start_time": "2023-01-18T09:23:56.677Z"
   },
   {
    "duration": 658,
    "start_time": "2023-01-18T09:24:29.473Z"
   },
   {
    "duration": 1533,
    "start_time": "2023-01-18T09:24:30.132Z"
   },
   {
    "duration": 717,
    "start_time": "2023-01-18T09:24:31.749Z"
   },
   {
    "duration": 93,
    "start_time": "2023-01-18T09:24:32.469Z"
   },
   {
    "duration": 105,
    "start_time": "2023-01-18T09:24:32.564Z"
   },
   {
    "duration": 4379,
    "start_time": "2023-01-18T09:24:32.671Z"
   },
   {
    "duration": 349,
    "start_time": "2023-01-18T09:24:37.061Z"
   },
   {
    "duration": 284,
    "start_time": "2023-01-18T09:24:37.412Z"
   },
   {
    "duration": 0,
    "start_time": "2023-01-18T09:24:37.698Z"
   },
   {
    "duration": 0,
    "start_time": "2023-01-18T09:24:37.700Z"
   },
   {
    "duration": 0,
    "start_time": "2023-01-18T09:24:37.701Z"
   },
   {
    "duration": 0,
    "start_time": "2023-01-18T09:24:37.702Z"
   },
   {
    "duration": 0,
    "start_time": "2023-01-18T09:24:37.703Z"
   },
   {
    "duration": 38149,
    "start_time": "2023-01-18T09:49:00.767Z"
   },
   {
    "duration": 676,
    "start_time": "2023-01-18T09:49:38.918Z"
   },
   {
    "duration": 18,
    "start_time": "2023-01-18T09:49:39.597Z"
   },
   {
    "duration": 16,
    "start_time": "2023-01-18T09:49:39.616Z"
   },
   {
    "duration": 185,
    "start_time": "2023-01-18T09:49:39.648Z"
   }
  ],
  "kernelspec": {
   "display_name": "Python 3 (ipykernel)",
   "language": "python",
   "name": "python3"
  },
  "language_info": {
   "codemirror_mode": {
    "name": "ipython",
    "version": 3
   },
   "file_extension": ".py",
   "mimetype": "text/x-python",
   "name": "python",
   "nbconvert_exporter": "python",
   "pygments_lexer": "ipython3",
   "version": "3.9.12"
  },
  "toc": {
   "base_numbering": 1,
   "nav_menu": {},
   "number_sections": true,
   "sideBar": true,
   "skip_h1_title": true,
   "title_cell": "Содержание",
   "title_sidebar": "Contents",
   "toc_cell": true,
   "toc_position": {},
   "toc_section_display": true,
   "toc_window_display": false
  }
 },
 "nbformat": 4,
 "nbformat_minor": 2
}
